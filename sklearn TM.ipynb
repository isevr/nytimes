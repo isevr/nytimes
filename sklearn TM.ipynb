{
 "cells": [
  {
   "cell_type": "code",
   "execution_count": null,
   "metadata": {},
   "outputs": [],
   "source": [
    "\n",
    "for i in len(lda_H)\n",
    "np.argsort(lda_W[:,i] )[::-1][0:no_top_documents]"
   ]
  },
  {
   "cell_type": "code",
   "execution_count": 58,
   "metadata": {},
   "outputs": [
    {
     "name": "stdout",
     "output_type": "stream",
     "text": [
      "Topic 0:\n",
      "unplug beginning progress advances turns know scared remember invent problems larger simply doubt facts able\n",
      "Topic 1:\n",
      "stupidity extinction destruction global industry defense assured public general energy warming example instead nuclear human\n",
      "Topic 2:\n",
      "companies people government development want regulation tech make money technology responsible power dangerous stop control\n",
      "Topic 3:\n",
      "government regulate humans regulation developing leaders continue self systems know human race computers machine mind\n",
      "Topic 4:\n",
      "people think technology human world humans need stop time going make know threat good better\n"
     ]
    }
   ],
   "source": [
    "from sklearn.feature_extraction.text import TfidfVectorizer, CountVectorizer\n",
    "from sklearn.datasets import fetch_20newsgroups\n",
    "from sklearn.decomposition import NMF, LatentDirichletAllocation\n",
    "import pandas as pd\n",
    "import numpy as np\n",
    "from nltk.corpus import stopwords\n",
    "from nltk.stem import WordNetLemmatizer\n",
    "import re\n",
    "\n",
    "ls = []\n",
    "\n",
    "def display_topics(H, W, feature_names, documents, no_top_words, no_top_documents):\n",
    "    for topic_idx, topic in enumerate(H):\n",
    "        print(\"Topic %d:\" % (topic_idx))\n",
    "        print(\" \".join([feature_names[i]\n",
    "                        for i in topic.argsort()[:-no_top_words - 1:-1]]))\n",
    "        top_doc_indices = np.argsort( W[:,topic_idx] )[::-1][0:no_top_documents]\n",
    "        for doc_index in top_doc_indices:\n",
    "            # print(f'These are the top comments: {documents[doc_index]}')\n",
    "            ls.append((topic_idx, documents[doc_index]))\n",
    "\n",
    "df = pd.read_csv('expanded_comments.csv')\n",
    "\n",
    "def preprocess(text):\n",
    "    t = text.lower()\n",
    "    # t = re.sub('_',r'',t)\n",
    "    # t = re.sub('\\d+',r'',t)\n",
    "    t = re.sub(r'@[^ ]*',r'',t)\n",
    "    t = re.sub(r'\\W+',r' ',t)\n",
    "    t = re.sub(r'(could|would|like|list|net|mailto|subject|http)', '', t)\n",
    "    t = re.sub(r'\\b\\w{1,3}\\b', '', t)\n",
    "    stopwords_list = stopwords.words('english')\n",
    "    txt = ' '.join([word for word in t.split() if word not in stopwords_list])\n",
    "    return txt\n",
    "\n",
    "lemmatizer = WordNetLemmatizer()\n",
    "\n",
    "\n",
    "df['documents'] = [' '.join([lemmatizer.lemmatize(preprocess(email))])\n",
    "                 .strip() for email in df['comment']]\n",
    "\n",
    "documents = df['documents']\n",
    "\n",
    "no_features = 1000\n",
    "\n",
    "\n",
    "# LDA can only use raw term counts for LDA because it is a probabilistic graphical model\n",
    "tf_vectorizer = CountVectorizer(max_df=0.95, min_df=2, max_features=no_features, stop_words='english')\n",
    "tf = tf_vectorizer.fit_transform(documents)\n",
    "tf_feature_names = tf_vectorizer.get_feature_names_out()\n",
    "\n",
    "no_topics = 5\n",
    "\n",
    "# Run LDA\n",
    "lda_model = LatentDirichletAllocation(n_components=no_topics, max_iter=5, learning_method='online', learning_offset=50.,random_state=1).fit(tf)\n",
    "lda_W = lda_model.transform(tf)\n",
    "lda_H = lda_model.components_\n",
    "\n",
    "no_top_words = 15\n",
    "no_top_documents = 500\n",
    "display_topics(lda_H, lda_W, tf_feature_names, df.comment, no_top_words, no_top_documents)\n"
   ]
  }
 ],
 "metadata": {
  "kernelspec": {
   "display_name": "base",
   "language": "python",
   "name": "python3"
  },
  "language_info": {
   "codemirror_mode": {
    "name": "ipython",
    "version": 3
   },
   "file_extension": ".py",
   "mimetype": "text/x-python",
   "name": "python",
   "nbconvert_exporter": "python",
   "pygments_lexer": "ipython3",
   "version": "3.10.9"
  },
  "orig_nbformat": 4
 },
 "nbformat": 4,
 "nbformat_minor": 2
}
