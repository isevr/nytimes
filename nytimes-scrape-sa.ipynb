{
 "cells": [
  {
   "cell_type": "code",
   "execution_count": 6,
   "metadata": {},
   "outputs": [],
   "source": [
    "import datetime as dt\n",
    "from nytimes_scraper.nyt_api import NytApi\n",
    "from nytimes_scraper.articles import fetch_articles_by_month, articles_to_df\n",
    "from nytimes_scraper.comments import fetch_comments, fetch_comments_by_article, comments_to_df\n",
    "from nytimes_scraper import run_scraper, scrape_month\n",
    "\n",
    "api = NytApi('FYkXHSbZsX1UXEq8eA7LLhrO1h6m2GSv')\n"
   ]
  },
  {
   "cell_type": "code",
   "execution_count": 11,
   "metadata": {},
   "outputs": [],
   "source": [
    "# # # Fetch articles of a specific month\n",
    "# articles = fetch_articles_by_month(api, dt.date(2020, 2, 1))\n",
    "# article_df = articles_to_df(articles)\n",
    "\n",
    "# # Fetch comments from multiple articles\n",
    "# # a) using the results of a previous article query\n",
    "# article_ids_and_urls = list(article_df['web_url'].iteritems())\n",
    "# comments_a = fetch_comments(api, article_ids_and_urls)\n",
    "# comment_df = comments_to_df(comments_a)\n",
    "\n",
    "# # b) using a custom list of articles\n",
    "# comments_b = fetch_comments(api, article_ids_and_urls=[\n",
    "#     ('nyt://article/316ef65c-7021-5755-885c-a9e1ef2cfdf2', 'https://www.nytimes.com/2020/01/03/world/middleeast/trump-iran-suleimani.html'),\n",
    "#     ('nyt://article/b2d1b802-412e-51f7-8864-efc931e87bb3', 'https://www.nytimes.com/2020/01/04/opinion/impeachment-witnesses.html'),\n",
    "# ])\n",
    "\n",
    "# # Fetch comment for one specific article by its URL\n",
    "comments_c = fetch_comments_by_article(api, 'https://www.nytimes.com/2023/05/30/technology/ai-threat-warning.html')"
   ]
  },
  {
   "cell_type": "code",
   "execution_count": 12,
   "metadata": {},
   "outputs": [],
   "source": [
    "comms = []\n",
    "\n",
    "for item in comments_c:\n",
    "    comms.append(item['commentBody'])\n",
    "    if item['replyCount'] > 0:\n",
    "        for reply in item['replies']:\n",
    "            comms.append(reply['commentBody'])\n"
   ]
  },
  {
   "cell_type": "code",
   "execution_count": 117,
   "metadata": {},
   "outputs": [],
   "source": [
    "import re \n",
    "\n",
    "\n",
    "\n",
    "def preprocess(text):\n",
    "    text = text.lower()\n",
    "    text = re.sub(r'{\\n\\}',r'',text)\n",
    "    text = re.sub(r'{\\n}',r'',text)\n",
    "    text = re.sub(r'{@}',r'',text)\n",
    "    txt = ' '.join([word for word in text.split()])\n",
    "    return txt"
   ]
  },
  {
   "cell_type": "code",
   "execution_count": 118,
   "metadata": {},
   "outputs": [],
   "source": [
    "new = []\n",
    "\n",
    "for comment in comms:\n",
    "    new.append(preprocess(comment))"
   ]
  },
  {
   "cell_type": "code",
   "execution_count": 119,
   "metadata": {},
   "outputs": [],
   "source": [
    "import csv\n",
    "\n",
    "def write_list_to_csv(strings, filename):\n",
    "    with open(filename, 'w', newline='') as file:\n",
    "        writer = csv.writer(file)\n",
    "        for string in strings:\n",
    "            writer.writerow([string])\n",
    "\n",
    "# Example usage\n",
    "my_strings = new\n",
    "write_list_to_csv(my_strings, 'output.csv')"
   ]
  },
  {
   "cell_type": "code",
   "execution_count": 120,
   "metadata": {},
   "outputs": [
    {
     "data": {
      "text/plain": [
       "{'neg': 0.212, 'neu': 0.733, 'pos': 0.055, 'compound': -0.9916}"
      ]
     },
     "execution_count": 120,
     "metadata": {},
     "output_type": "execute_result"
    }
   ],
   "source": [
    "from nltk.sentiment.vader import SentimentIntensityAnalyzer\n",
    "import pandas as pd\n",
    "\n",
    "sent = {}\n",
    "\n",
    "sa = SentimentIntensityAnalyzer()\n",
    "\n",
    "sa.polarity_scores(comms[0])\n",
    "\n"
   ]
  },
  {
   "cell_type": "code",
   "execution_count": 121,
   "metadata": {},
   "outputs": [],
   "source": [
    "comms = new"
   ]
  },
  {
   "cell_type": "code",
   "execution_count": 122,
   "metadata": {},
   "outputs": [],
   "source": [
    "sen_df = pd.DataFrame(comms, columns=['comment'])"
   ]
  },
  {
   "cell_type": "code",
   "execution_count": 123,
   "metadata": {},
   "outputs": [],
   "source": [
    "negs = []\n",
    "for comment in sen_df['comment']:\n",
    "    negs.append(sa.polarity_scores(comment)['neg'])\n",
    "\n"
   ]
  },
  {
   "cell_type": "code",
   "execution_count": 124,
   "metadata": {},
   "outputs": [],
   "source": [
    "neu = []\n",
    "for comment in sen_df['comment']:\n",
    "    neu.append(sa.polarity_scores(comment)['neu'])\n",
    "\n"
   ]
  },
  {
   "cell_type": "code",
   "execution_count": 125,
   "metadata": {},
   "outputs": [],
   "source": [
    "pos = []\n",
    "for comment in sen_df['comment']:\n",
    "    pos.append(sa.polarity_scores(comment)['pos'])\n",
    "\n"
   ]
  },
  {
   "cell_type": "code",
   "execution_count": 126,
   "metadata": {},
   "outputs": [],
   "source": [
    "compound = []\n",
    "for comment in sen_df['comment']:\n",
    "    compound.append(sa.polarity_scores(comment)['compound'])\n",
    "\n"
   ]
  },
  {
   "cell_type": "code",
   "execution_count": 127,
   "metadata": {},
   "outputs": [],
   "source": [
    "sen_df['neg'] = negs\n",
    "sen_df['neu'] = neu\n",
    "sen_df['pos'] = pos"
   ]
  },
  {
   "cell_type": "code",
   "execution_count": 128,
   "metadata": {},
   "outputs": [],
   "source": [
    "sen_df['compound'] = compound"
   ]
  },
  {
   "cell_type": "code",
   "execution_count": 129,
   "metadata": {},
   "outputs": [
    {
     "name": "stderr",
     "output_type": "stream",
     "text": [
      "C:\\Users\\gsevr\\AppData\\Local\\Temp\\ipykernel_15944\\3034246993.py:1: FutureWarning: Dropping of nuisance columns in DataFrame reductions (with 'numeric_only=None') is deprecated; in a future version this will raise TypeError.  Select only valid columns before calling the reduction.\n",
      "  sen_df['value'] = sen_df.max(axis=1)\n"
     ]
    }
   ],
   "source": [
    "sen_df['value'] = sen_df.max(axis=1)"
   ]
  },
  {
   "cell_type": "code",
   "execution_count": 130,
   "metadata": {},
   "outputs": [],
   "source": [
    "\n",
    "sen_df['sentiment'] = sen_df.apply(lambda x: 'negative' if x['value'] == x['neg'] else 'neutral' if x['value'] == x['neu'] else 'positive', axis=1)\n"
   ]
  },
  {
   "cell_type": "code",
   "execution_count": 137,
   "metadata": {},
   "outputs": [],
   "source": [
    "df = sen_df.groupby('sentiment')['sentiment'].value_counts()"
   ]
  },
  {
   "cell_type": "code",
   "execution_count": 138,
   "metadata": {},
   "outputs": [
    {
     "data": {
      "text/html": [
       "<div>\n",
       "<style scoped>\n",
       "    .dataframe tbody tr th:only-of-type {\n",
       "        vertical-align: middle;\n",
       "    }\n",
       "\n",
       "    .dataframe tbody tr th {\n",
       "        vertical-align: top;\n",
       "    }\n",
       "\n",
       "    .dataframe thead th {\n",
       "        text-align: right;\n",
       "    }\n",
       "</style>\n",
       "<table border=\"1\" class=\"dataframe\">\n",
       "  <thead>\n",
       "    <tr style=\"text-align: right;\">\n",
       "      <th></th>\n",
       "      <th></th>\n",
       "      <th>sentiment</th>\n",
       "    </tr>\n",
       "    <tr>\n",
       "      <th>sentiment</th>\n",
       "      <th>sentiment</th>\n",
       "      <th></th>\n",
       "    </tr>\n",
       "  </thead>\n",
       "  <tbody>\n",
       "    <tr>\n",
       "      <th>neutral</th>\n",
       "      <th>neutral</th>\n",
       "      <td>305</td>\n",
       "    </tr>\n",
       "    <tr>\n",
       "      <th>positive</th>\n",
       "      <th>positive</th>\n",
       "      <td>25</td>\n",
       "    </tr>\n",
       "  </tbody>\n",
       "</table>\n",
       "</div>"
      ],
      "text/plain": [
       "                     sentiment\n",
       "sentiment sentiment           \n",
       "neutral   neutral          305\n",
       "positive  positive          25"
      ]
     },
     "execution_count": 138,
     "metadata": {},
     "output_type": "execute_result"
    }
   ],
   "source": [
    "pd.DataFrame(df)"
   ]
  },
  {
   "cell_type": "code",
   "execution_count": 93,
   "metadata": {},
   "outputs": [],
   "source": [
    "import seaborn as sns"
   ]
  },
  {
   "cell_type": "code",
   "execution_count": 94,
   "metadata": {},
   "outputs": [],
   "source": [
    "neg_mean = sen_df.neg.mean()\n",
    "neu_mean = sen_df.neu.mean()\n",
    "pos_mean = sen_df.pos.mean()\n",
    "com_mean = sen_df.compound.mean()\n",
    "\n",
    "a = pd.DataFrame([neg_mean,neu_mean,pos_mean,com_mean])"
   ]
  },
  {
   "cell_type": "code",
   "execution_count": 95,
   "metadata": {},
   "outputs": [
    {
     "data": {
      "text/html": [
       "<div>\n",
       "<style scoped>\n",
       "    .dataframe tbody tr th:only-of-type {\n",
       "        vertical-align: middle;\n",
       "    }\n",
       "\n",
       "    .dataframe tbody tr th {\n",
       "        vertical-align: top;\n",
       "    }\n",
       "\n",
       "    .dataframe thead th {\n",
       "        text-align: right;\n",
       "    }\n",
       "</style>\n",
       "<table border=\"1\" class=\"dataframe\">\n",
       "  <thead>\n",
       "    <tr style=\"text-align: right;\">\n",
       "      <th></th>\n",
       "      <th>negative</th>\n",
       "      <th>neutral</th>\n",
       "      <th>positive</th>\n",
       "      <th>compound</th>\n",
       "    </tr>\n",
       "  </thead>\n",
       "  <tbody>\n",
       "    <tr>\n",
       "      <th>0</th>\n",
       "      <td>0.067481</td>\n",
       "      <td>0.846397</td>\n",
       "      <td>0.086121</td>\n",
       "      <td>0.070575</td>\n",
       "    </tr>\n",
       "  </tbody>\n",
       "</table>\n",
       "</div>"
      ],
      "text/plain": [
       "   negative   neutral  positive  compound\n",
       "0  0.067481  0.846397  0.086121  0.070575"
      ]
     },
     "execution_count": 95,
     "metadata": {},
     "output_type": "execute_result"
    }
   ],
   "source": [
    "a = a.T\n",
    "a.columns = ['negative','neutral','positive','compound']\n",
    "a"
   ]
  },
  {
   "cell_type": "code",
   "execution_count": 96,
   "metadata": {},
   "outputs": [
    {
     "data": {
      "image/png": "[encoded data removed]",
      "text/plain": [
       "<Figure size 800x600 with 1 Axes>"
      ]
     },
     "metadata": {},
     "output_type": "display_data"
    }
   ],
   "source": [
    "import matplotlib.pyplot as plt\n",
    "\n",
    "fig, ax = plt.subplots(figsize=(8, 6))\n",
    "sns.barplot(a)\n",
    "ax.bar_label(ax.containers[0], fmt='%.4f')\n",
    "plt.show()"
   ]
  },
  {
   "cell_type": "code",
   "execution_count": null,
   "metadata": {},
   "outputs": [],
   "source": []
  }
 ],
 "metadata": {
  "kernelspec": {
   "display_name": "Python 3",
   "language": "python",
   "name": "python3"
  },
  "language_info": {
   "codemirror_mode": {
    "name": "ipython",
    "version": 3
   },
   "file_extension": ".py",
   "mimetype": "text/x-python",
   "name": "python",
   "nbconvert_exporter": "python",
   "pygments_lexer": "ipython3",
   "version": "3.10.9"
  },
  "orig_nbformat": 4
 },
 "nbformat": 4,
 "nbformat_minor": 2
}
