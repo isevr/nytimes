{
 "cells": [
  {
   "cell_type": "code",
   "execution_count": 11,
   "metadata": {},
   "outputs": [
    {
     "name": "stderr",
     "output_type": "stream",
     "text": [
      "[nltk_data] Downloading package stopwords to\n",
      "[nltk_data]     C:\\Users\\gsevr\\AppData\\Roaming\\nltk_data...\n",
      "[nltk_data]   Package stopwords is already up-to-date!\n"
     ]
    }
   ],
   "source": [
    "import pandas as pd\n",
    "import nltk\n",
    "from nltk.corpus import stopwords\n",
    "from nltk.stem import WordNetLemmatizer\n",
    "nltk.download('stopwords')\n",
    "import re\n",
    "from wordcloud import WordCloud\n",
    "import gensim\n",
    "from gensim.utils import simple_preprocess\n",
    "import gensim.corpora as corpora\n",
    "from pprint import pprint\n",
    "import pyLDAvis.gensim\n",
    "import pyLDAvis\n",
    "from gensim.models import CoherenceModel\n",
    "import seaborn as sns\n",
    "import matplotlib.pyplot as plt\n"
   ]
  },
  {
   "cell_type": "code",
   "execution_count": 94,
   "metadata": {},
   "outputs": [
    {
     "data": {
      "text/html": [
       "<div>\n",
       "<style scoped>\n",
       "    .dataframe tbody tr th:only-of-type {\n",
       "        vertical-align: middle;\n",
       "    }\n",
       "\n",
       "    .dataframe tbody tr th {\n",
       "        vertical-align: top;\n",
       "    }\n",
       "\n",
       "    .dataframe thead th {\n",
       "        text-align: right;\n",
       "    }\n",
       "</style>\n",
       "<table border=\"1\" class=\"dataframe\">\n",
       "  <thead>\n",
       "    <tr style=\"text-align: right;\">\n",
       "      <th></th>\n",
       "      <th>comment</th>\n",
       "      <th>unic_sentiment</th>\n",
       "      <th>unic_score</th>\n",
       "    </tr>\n",
       "  </thead>\n",
       "  <tbody>\n",
       "    <tr>\n",
       "      <th>0</th>\n",
       "      <td>it is very possible that social media have alr...</td>\n",
       "      <td>negative</td>\n",
       "      <td>0.97</td>\n",
       "    </tr>\n",
       "    <tr>\n",
       "      <th>1</th>\n",
       "      <td>@paul i believe that accurate beliefs are abso...</td>\n",
       "      <td>positive</td>\n",
       "      <td>0.89</td>\n",
       "    </tr>\n",
       "    <tr>\n",
       "      <th>2</th>\n",
       "      <td>@chris v our cognitive systems are not designe...</td>\n",
       "      <td>negative</td>\n",
       "      <td>0.88</td>\n",
       "    </tr>\n",
       "    <tr>\n",
       "      <th>3</th>\n",
       "      <td>@paul absolutely agree. i don’t think even lib...</td>\n",
       "      <td>negative</td>\n",
       "      <td>0.92</td>\n",
       "    </tr>\n",
       "    <tr>\n",
       "      <th>4</th>\n",
       "      <td>@paul belief is a a trait that developed late ...</td>\n",
       "      <td>negative</td>\n",
       "      <td>0.91</td>\n",
       "    </tr>\n",
       "    <tr>\n",
       "      <th>...</th>\n",
       "      <td>...</td>\n",
       "      <td>...</td>\n",
       "      <td>...</td>\n",
       "    </tr>\n",
       "    <tr>\n",
       "      <th>1443</th>\n",
       "      <td>purdue pharma's sackler family paid $6 billion...</td>\n",
       "      <td>neutral</td>\n",
       "      <td>0.64</td>\n",
       "    </tr>\n",
       "    <tr>\n",
       "      <th>1444</th>\n",
       "      <td>unless prevented, the nihilistic qualities of ...</td>\n",
       "      <td>neutral</td>\n",
       "      <td>0.69</td>\n",
       "    </tr>\n",
       "    <tr>\n",
       "      <th>1445</th>\n",
       "      <td>putting \"the\" government in charge of things i...</td>\n",
       "      <td>negative</td>\n",
       "      <td>0.55</td>\n",
       "    </tr>\n",
       "    <tr>\n",
       "      <th>1446</th>\n",
       "      <td>this is just another example of 'extinction by...</td>\n",
       "      <td>negative</td>\n",
       "      <td>0.51</td>\n",
       "    </tr>\n",
       "    <tr>\n",
       "      <th>1447</th>\n",
       "      <td>logan roy would looooove ai.</td>\n",
       "      <td>negative</td>\n",
       "      <td>0.60</td>\n",
       "    </tr>\n",
       "  </tbody>\n",
       "</table>\n",
       "<p>1448 rows × 3 columns</p>\n",
       "</div>"
      ],
      "text/plain": [
       "                                                comment unic_sentiment  \\\n",
       "0     it is very possible that social media have alr...       negative   \n",
       "1     @paul i believe that accurate beliefs are abso...       positive   \n",
       "2     @chris v our cognitive systems are not designe...       negative   \n",
       "3     @paul absolutely agree. i don’t think even lib...       negative   \n",
       "4     @paul belief is a a trait that developed late ...       negative   \n",
       "...                                                 ...            ...   \n",
       "1443  purdue pharma's sackler family paid $6 billion...        neutral   \n",
       "1444  unless prevented, the nihilistic qualities of ...        neutral   \n",
       "1445  putting \"the\" government in charge of things i...       negative   \n",
       "1446  this is just another example of 'extinction by...       negative   \n",
       "1447                       logan roy would looooove ai.       negative   \n",
       "\n",
       "      unic_score  \n",
       "0           0.97  \n",
       "1           0.89  \n",
       "2           0.88  \n",
       "3           0.92  \n",
       "4           0.91  \n",
       "...          ...  \n",
       "1443        0.64  \n",
       "1444        0.69  \n",
       "1445        0.55  \n",
       "1446        0.51  \n",
       "1447        0.60  \n",
       "\n",
       "[1448 rows x 3 columns]"
      ]
     },
     "execution_count": 94,
     "metadata": {},
     "output_type": "execute_result"
    }
   ],
   "source": [
    "df_holc = pd.read_csv('holc_output.csv')\n",
    "df_comm = pd.read_csv('comments.csv', delimiter=';')\n",
    "\n",
    "df = pd.concat([df_comm, df_holc], axis=1)\n",
    "\n",
    "df.drop(df.columns[1],axis=1,inplace=True)\n",
    "df.drop(df.columns[1],axis=1,inplace=True)\n",
    "\n",
    "df['unic_sentiment'] = df.unic_sentiment.apply(lambda x: 'positive' if x == 'pos' else 'negative' if x == 'neg' else 'neutral')\n",
    "df"
   ]
  },
  {
   "cell_type": "code",
   "execution_count": 95,
   "metadata": {},
   "outputs": [
    {
     "data": {
      "text/plain": [
       "Text(0, 0.5, 'Number of posts')"
      ]
     },
     "execution_count": 95,
     "metadata": {},
     "output_type": "execute_result"
    },
    {
     "data": {
      "image/png": "[encoded data removed]",
      "text/plain": [
       "<Figure size 640x480 with 1 Axes>"
      ]
     },
     "metadata": {},
     "output_type": "display_data"
    }
   ],
   "source": [
    "sns.set_theme()\n",
    "fig, ax = plt.subplots()\n",
    "\n",
    "a = pd.DataFrame(df.unic_sentiment.value_counts())\n",
    "a\n",
    "sns.barplot(pd.DataFrame(df.unic_sentiment.value_counts()),x = a.index, y='count')\n",
    "plt.xlabel('Sentiment')\n",
    "plt.ylabel('Number of posts')\n"
   ]
  },
  {
   "cell_type": "code",
   "execution_count": 96,
   "metadata": {},
   "outputs": [],
   "source": [
    "def preprocess(text):\n",
    "    t = text.lower()\n",
    "    # t = re.sub('_',r'',t)\n",
    "    # t = re.sub('\\d+',r'',t)\n",
    "    t = re.sub(r'@[^ ]*',r'',t)\n",
    "    t = re.sub(r'\\W+',r' ',t)\n",
    "    t = re.sub(r'(could|would|like|)', '', t)\n",
    "    t = re.sub(r'\\b(?!(?:ai)\\b)\\w{3}\\b','', t)\n",
    "    t = re.sub(r'humans',r'human',t)\n",
    "    stopwords_list = stopwords.words('english')\n",
    "    txt = ' '.join([word for word in t.split() if word not in stopwords_list])\n",
    "    return txt\n",
    "\n",
    "lemmatizer = WordNetLemmatizer()\n",
    "\n",
    "\n",
    "\n",
    "df['pre_com'] = [' '.join([lemmatizer.lemmatize(preprocess(email))])\n",
    "                 .strip() for email in df['comment']]"
   ]
  },
  {
   "cell_type": "code",
   "execution_count": 97,
   "metadata": {},
   "outputs": [],
   "source": [
    "def sent_to_words(sentences):\n",
    "    for sentence in sentences:\n",
    "        yield(gensim.utils.simple_preprocess(str(sentence), deacc=True))\n",
    "\n",
    "data = df.pre_com.values.tolist()\n",
    "data_words = list(sent_to_words(data))\n",
    "        "
   ]
  },
  {
   "cell_type": "code",
   "execution_count": 98,
   "metadata": {},
   "outputs": [
    {
     "name": "stderr",
     "output_type": "stream",
     "text": [
      "c:\\Users\\gsevr\\anaconda3\\lib\\site-packages\\wordcloud\\wordcloud.py:106: MatplotlibDeprecationWarning:\n",
      "\n",
      "The get_cmap function was deprecated in Matplotlib 3.7 and will be removed two minor releases later. Use ``matplotlib.colormaps[name]`` or ``matplotlib.colormaps.get_cmap(obj)`` instead.\n",
      "\n"
     ]
    },
    {
     "data": {
      "image/png": "[encoded data removed]",
      "text/plain": [
       "<PIL.Image.Image image mode=RGB size=400x200>"
      ]
     },
     "execution_count": 98,
     "metadata": {},
     "output_type": "execute_result"
    }
   ],
   "source": [
    "long_string = ','.join(list(df.pre_com.values))\n",
    "\n",
    "wordcloud = WordCloud(background_color=\"white\", max_words=250, contour_width=3, contour_color='steelblue')\n",
    "\n",
    "wordcloud.generate(long_string)\n",
    "\n",
    "wordcloud.to_image()"
   ]
  },
  {
   "cell_type": "code",
   "execution_count": 99,
   "metadata": {},
   "outputs": [
    {
     "name": "stdout",
     "output_type": "stream",
     "text": [
      "[(0, 1), (1, 2), (2, 1), (3, 1), (4, 1), (5, 2), (6, 1), (7, 1), (8, 1), (9, 1), (10, 1), (11, 1), (12, 1), (13, 1), (14, 1), (15, 1), (16, 1), (17, 1), (18, 1), (19, 1), (20, 1), (21, 1), (22, 1), (23, 1), (24, 1), (25, 1), (26, 1), (27, 1), (28, 1), (29, 1)]\n"
     ]
    }
   ],
   "source": [
    "id2word = corpora.Dictionary(data_words)\n",
    "texts = data_words\n",
    "corpus = [id2word.doc2bow(text) for text in texts]\n",
    "print(corpus[:1][0][:30])"
   ]
  },
  {
   "cell_type": "code",
   "execution_count": 26,
   "metadata": {},
   "outputs": [
    {
     "name": "stdout",
     "output_type": "stream",
     "text": [
      "[(0,\n",
      "  '0.031*\"ai\" + 0.008*\"human\" + 0.005*\"people\" + 0.005*\"us\" + '\n",
      "  '0.004*\"technology\" + 0.004*\"think\" + 0.004*\"need\" + 0.003*\"threat\" + '\n",
      "  '0.003*\"world\" + 0.003*\"make\"'),\n",
      " (1,\n",
      "  '0.019*\"ai\" + 0.012*\"human\" + 0.007*\"us\" + 0.006*\"people\" + '\n",
      "  '0.005*\"technology\" + 0.005*\"stop\" + 0.005*\"even\" + 0.004*\"think\" + '\n",
      "  '0.004*\"make\" + 0.003*\"world\"'),\n",
      " (2,\n",
      "  '0.026*\"ai\" + 0.010*\"human\" + 0.007*\"us\" + 0.006*\"technology\" + '\n",
      "  '0.004*\"government\" + 0.004*\"want\" + 0.004*\"people\" + 0.004*\"world\" + '\n",
      "  '0.004*\"even\" + 0.004*\"systems\"'),\n",
      " (3,\n",
      "  '0.011*\"people\" + 0.010*\"ai\" + 0.010*\"us\" + 0.008*\"think\" + 0.008*\"human\" + '\n",
      "  '0.004*\"make\" + 0.003*\"technology\" + 0.003*\"already\" + 0.003*\"much\" + '\n",
      "  '0.003*\"tech\"')]\n"
     ]
    }
   ],
   "source": [
    "num_topics = 4\n",
    "\n",
    "lda_model = gensim.models.LdaMulticore(corpus=corpus,\n",
    "                                       id2word=id2word,\n",
    "                                       num_topics=num_topics,\n",
    "                                       random_state=8\n",
    "                                       )\n",
    "\n",
    "pprint(lda_model.print_topics())\n",
    "# doc_lda = lda_model[corpus]"
   ]
  },
  {
   "cell_type": "code",
   "execution_count": 27,
   "metadata": {},
   "outputs": [],
   "source": [
    "pyLDAvis.enable_notebook()\n",
    "vis = pyLDAvis.gensim.prepare(lda_model, corpus, id2word)\n",
    "pyLDAvis.save_html(vis, 'test_html.html')"
   ]
  },
  {
   "cell_type": "code",
   "execution_count": 28,
   "metadata": {},
   "outputs": [
    {
     "data": {
      "text/html": [
       "<div>\n",
       "<style scoped>\n",
       "    .dataframe tbody tr th:only-of-type {\n",
       "        vertical-align: middle;\n",
       "    }\n",
       "\n",
       "    .dataframe tbody tr th {\n",
       "        vertical-align: top;\n",
       "    }\n",
       "\n",
       "    .dataframe thead th {\n",
       "        text-align: right;\n",
       "    }\n",
       "</style>\n",
       "<table border=\"1\" class=\"dataframe\">\n",
       "  <thead>\n",
       "    <tr style=\"text-align: right;\">\n",
       "      <th></th>\n",
       "      <th>Topic 1</th>\n",
       "      <th>Topic 2</th>\n",
       "      <th>Topic 3</th>\n",
       "      <th>Topic 4</th>\n",
       "    </tr>\n",
       "  </thead>\n",
       "  <tbody>\n",
       "    <tr>\n",
       "      <th>0</th>\n",
       "      <td>ai</td>\n",
       "      <td>people</td>\n",
       "      <td>ai</td>\n",
       "      <td>stop</td>\n",
       "    </tr>\n",
       "    <tr>\n",
       "      <th>1</th>\n",
       "      <td>government</td>\n",
       "      <td>think</td>\n",
       "      <td>problem</td>\n",
       "      <td>human</td>\n",
       "    </tr>\n",
       "    <tr>\n",
       "      <th>2</th>\n",
       "      <td>want</td>\n",
       "      <td>us</td>\n",
       "      <td>unplug</td>\n",
       "      <td>chatgpt</td>\n",
       "    </tr>\n",
       "    <tr>\n",
       "      <th>3</th>\n",
       "      <td>human</td>\n",
       "      <td>change</td>\n",
       "      <td>maybe</td>\n",
       "      <td>ai</td>\n",
       "    </tr>\n",
       "    <tr>\n",
       "      <th>4</th>\n",
       "      <td>systems</td>\n",
       "      <td>earth</td>\n",
       "      <td>need</td>\n",
       "      <td>china</td>\n",
       "    </tr>\n",
       "    <tr>\n",
       "      <th>5</th>\n",
       "      <td>technology</td>\n",
       "      <td>kill</td>\n",
       "      <td>artificial</td>\n",
       "      <td>even</td>\n",
       "    </tr>\n",
       "    <tr>\n",
       "      <th>6</th>\n",
       "      <td>risk</td>\n",
       "      <td>next</td>\n",
       "      <td>threat</td>\n",
       "      <td>intelligence</td>\n",
       "    </tr>\n",
       "    <tr>\n",
       "      <th>7</th>\n",
       "      <td>world</td>\n",
       "      <td>leaders</td>\n",
       "      <td>intelligence</td>\n",
       "      <td>matrix</td>\n",
       "    </tr>\n",
       "    <tr>\n",
       "      <th>8</th>\n",
       "      <td>used</td>\n",
       "      <td>going</td>\n",
       "      <td>thought</td>\n",
       "      <td>russia</td>\n",
       "    </tr>\n",
       "    <tr>\n",
       "      <th>9</th>\n",
       "      <td>us</td>\n",
       "      <td>much</td>\n",
       "      <td>profiles</td>\n",
       "      <td>energy</td>\n",
       "    </tr>\n",
       "  </tbody>\n",
       "</table>\n",
       "</div>"
      ],
      "text/plain": [
       "      Topic 1  Topic 2       Topic 3       Topic 4\n",
       "0          ai   people            ai          stop\n",
       "1  government    think       problem         human\n",
       "2        want       us        unplug       chatgpt\n",
       "3       human   change         maybe            ai\n",
       "4     systems    earth          need         china\n",
       "5  technology     kill    artificial          even\n",
       "6        risk     next        threat  intelligence\n",
       "7       world  leaders  intelligence        matrix\n",
       "8        used    going       thought        russia\n",
       "9          us     much      profiles        energy"
      ]
     },
     "execution_count": 28,
     "metadata": {},
     "output_type": "execute_result"
    }
   ],
   "source": [
    "lambd = 0.3 # a specific relevance metric value\n",
    "\n",
    "all_topics = {}\n",
    "num_topics = lda_model.num_topics \n",
    "num_terms = 10 \n",
    "\n",
    "for i in range(1,num_topics+1): ## Correct range\n",
    "    topic = vis.topic_info[vis.topic_info.Category == 'Topic'+str(i)].copy()\n",
    "    topic['relevance'] = topic['loglift']*(1-lambd)+topic['logprob']*lambd\n",
    "    all_topics['Topic '+str(i)] = topic.sort_values(by='relevance', ascending=False).Term[:num_terms].values\n",
    "all_df = pd.DataFrame(all_topics)\n",
    "\n",
    "all_df"
   ]
  },
  {
   "cell_type": "code",
   "execution_count": 76,
   "metadata": {},
   "outputs": [
    {
     "name": "stderr",
     "output_type": "stream",
     "text": [
      "c:\\Users\\gsevr\\anaconda3\\lib\\site-packages\\wordcloud\\wordcloud.py:106: MatplotlibDeprecationWarning: The get_cmap function was deprecated in Matplotlib 3.7 and will be removed two minor releases later. Use ``matplotlib.colormaps[name]`` or ``matplotlib.colormaps.get_cmap(obj)`` instead.\n",
      "  self.colormap = plt.cm.get_cmap(colormap)\n"
     ]
    },
    {
     "data": {
      "image/png": "[encoded data removed]",
      "text/plain": [
       "<PIL.Image.Image image mode=RGB size=400x200>"
      ]
     },
     "execution_count": 76,
     "metadata": {},
     "output_type": "execute_result"
    }
   ],
   "source": [
    "string = ','.join(list(all_df.iloc[:,3].values))\n",
    "wordcloud = WordCloud(background_color=\"lightblue\", colormap='Spectral', max_words=250, contour_width=3, contour_color='steelblue', stopwords=['human'])\n",
    "wordcloud.generate(string)\n",
    "wordcloud.to_file('wc_new'+str(3)+'.png')\n",
    "wordcloud.to_image()"
   ]
  },
  {
   "cell_type": "code",
   "execution_count": 250,
   "metadata": {},
   "outputs": [
    {
     "name": "stdout",
     "output_type": "stream",
     "text": [
      "\n",
      "Perplexity:  -8.466416662181716\n",
      "\n",
      "Coherence Score:  0.550914592376665\n"
     ]
    }
   ],
   "source": [
    "# Compute Perplexity\n",
    "print('\\nPerplexity: ', lda_model.log_perplexity(corpus))  # a measure of how good the model is. lower the better.\n",
    "\n",
    "# Compute Coherence Score\n",
    "coherence_model_lda = CoherenceModel(model=lda_model, texts=data_words, dictionary=id2word, coherence='c_v')\n",
    "coherence_lda = coherence_model_lda.get_coherence()\n",
    "print('\\nCoherence Score: ', coherence_lda)"
   ]
  },
  {
   "cell_type": "code",
   "execution_count": 107,
   "metadata": {},
   "outputs": [
    {
     "data": {
      "text/html": [
       "\n",
       "        <iframe\n",
       "            width=\"100%\"\n",
       "            height=\"650\"\n",
       "            src=\"http://127.0.0.1:8050/\"\n",
       "            frameborder=\"0\"\n",
       "            allowfullscreen\n",
       "            \n",
       "        ></iframe>\n",
       "        "
      ],
      "text/plain": [
       "<IPython.lib.display.IFrame at 0x1f8050683a0>"
      ]
     },
     "metadata": {},
     "output_type": "display_data"
    }
   ],
   "source": [
    "import dash\n",
    "import dash_core_components as dcc\n",
    "import dash_html_components as html\n",
    "import pandas as pd\n",
    "\n",
    "# Step 3: Create a dataset\n",
    "data = {'x': [1, 2, 3, 4, 5],\n",
    "        'y': [1, 4, 9, 16, 25]}\n",
    "# df = pd.DataFrame(data)\n",
    "\n",
    "# Step 4: Initialize the Dash app\n",
    "app = dash.Dash(__name__)\n",
    "\n",
    "# Step 5: Define the layout\n",
    "app.layout = html.Div(children=[\n",
    "    html.H1('My Graph'),\n",
    "    dcc.Graph(id='my-graph', figure={'data': [{'x': df['pre_com'], 'y': df['unic_sentiment'], 'type': 'bar'}]})\n",
    "])\n",
    "\n",
    "# Step 6: Run the app\n",
    "if __name__ == '__main__':\n",
    "    app.run_server(debug=True)\n"
   ]
  },
  {
   "cell_type": "code",
   "execution_count": 180,
   "metadata": {},
   "outputs": [],
   "source": [
    "expdf = pd.read_csv('expanded_comments.csv')"
   ]
  },
  {
   "cell_type": "code",
   "execution_count": 181,
   "metadata": {},
   "outputs": [],
   "source": [
    "testdf = pd.concat([df.iloc[:len(expdf),:],expdf],axis=1)"
   ]
  },
  {
   "cell_type": "code",
   "execution_count": 182,
   "metadata": {},
   "outputs": [],
   "source": [
    "testdf['time'] = pd.to_datetime(testdf['time'],format='%Y-%m-%d %H:%M:%S')"
   ]
  },
  {
   "cell_type": "code",
   "execution_count": 218,
   "metadata": {},
   "outputs": [],
   "source": [
    "testdf.rename(columns={'unic_sentiment':'sentiment','unic_score':'confidence'},inplace=True)"
   ]
  },
  {
   "cell_type": "code",
   "execution_count": 207,
   "metadata": {},
   "outputs": [
    {
     "data": {
      "application/vnd.plotly.v1+json": {
       "config": {
        "plotlyServerURL": "https://plot.ly"
       },
       "data": [
        {
         "hovertemplate": "time=%{x}<br>Replies=%{y}<extra></extra>",
         "legendgroup": "",
         "line": {
          "color": "#636efa",
          "dash": "solid"
         },
         "marker": {
          "symbol": "circle"
         },
         "mode": "lines",
         "name": "",
         "orientation": "v",
         "showlegend": false,
         "type": "scatter",
         "x": [
          "2023-05-30T14:37:15",
          "2023-05-30T14:38:52",
          "2023-05-30T14:39:23",
          "2023-05-30T14:39:40",
          "2023-05-30T14:41:43",
          "2023-05-30T14:42:24",
          "2023-05-30T14:45:16",
          "2023-05-30T14:45:17",
          "2023-05-30T14:46:08",
          "2023-05-30T14:46:14",
          "2023-05-30T14:46:48",
          "2023-05-30T14:47:20",
          "2023-05-30T14:47:24",
          "2023-05-30T14:47:46",
          "2023-05-30T14:48:03",
          "2023-05-30T14:48:21",
          "2023-05-30T14:48:23",
          "2023-05-30T14:48:27",
          "2023-05-30T14:49:23",
          "2023-05-30T14:49:41",
          "2023-05-30T14:50:29",
          "2023-05-30T14:50:39",
          "2023-05-30T14:50:44",
          "2023-05-30T14:51:06",
          "2023-05-30T14:51:48",
          "2023-05-30T14:51:58",
          "2023-05-30T14:53:33",
          "2023-05-30T14:53:46",
          "2023-05-30T14:54:39",
          "2023-05-30T14:55:33",
          "2023-05-30T14:56:06",
          "2023-05-30T14:56:08",
          "2023-05-30T14:56:30",
          "2023-05-30T14:56:33",
          "2023-05-30T14:56:59",
          "2023-05-30T14:57:59",
          "2023-05-30T14:58:02",
          "2023-05-30T14:58:14",
          "2023-05-30T14:58:38",
          "2023-05-30T14:59:44",
          "2023-05-30T15:01:11",
          "2023-05-30T15:01:20",
          "2023-05-30T15:01:39",
          "2023-05-30T15:02:03",
          "2023-05-30T15:02:28",
          "2023-05-30T15:02:32",
          "2023-05-30T15:02:35",
          "2023-05-30T15:02:36",
          "2023-05-30T15:02:39",
          "2023-05-30T15:03:01",
          "2023-05-30T15:03:19",
          "2023-05-30T15:03:50",
          "2023-05-30T15:06:12",
          "2023-05-30T15:06:20",
          "2023-05-30T15:06:32",
          "2023-05-30T15:08:16",
          "2023-05-30T15:08:18",
          "2023-05-30T15:08:22",
          "2023-05-30T15:09:02",
          "2023-05-30T15:09:08",
          "2023-05-30T15:09:53",
          "2023-05-30T15:10:21",
          "2023-05-30T15:10:34",
          "2023-05-30T15:11:00",
          "2023-05-30T15:12:10",
          "2023-05-30T15:12:35",
          "2023-05-30T15:12:58",
          "2023-05-30T15:13:08",
          "2023-05-30T15:13:30",
          "2023-05-30T15:15:10",
          "2023-05-30T15:15:20",
          "2023-05-30T15:16:34",
          "2023-05-30T15:16:47",
          "2023-05-30T15:16:58",
          "2023-05-30T15:21:54",
          "2023-05-30T15:22:51",
          "2023-05-30T15:22:54",
          "2023-05-30T15:22:59",
          "2023-05-30T15:24:07",
          "2023-05-30T15:24:12",
          "2023-05-30T15:24:24",
          "2023-05-30T15:24:53",
          "2023-05-30T15:26:11",
          "2023-05-30T15:26:19",
          "2023-05-30T15:27:00",
          "2023-05-30T15:27:12",
          "2023-05-30T15:28:06",
          "2023-05-30T15:29:07",
          "2023-05-30T15:29:08",
          "2023-05-30T15:29:34",
          "2023-05-30T15:29:48",
          "2023-05-30T15:30:28",
          "2023-05-30T15:30:48",
          "2023-05-30T15:31:21",
          "2023-05-30T15:31:35",
          "2023-05-30T15:31:49",
          "2023-05-30T15:32:02",
          "2023-05-30T15:32:08",
          "2023-05-30T15:34:26",
          "2023-05-30T15:34:51",
          "2023-05-30T15:35:05",
          "2023-05-30T15:36:54",
          "2023-05-30T15:37:28",
          "2023-05-30T15:37:53",
          "2023-05-30T15:38:15",
          "2023-05-30T15:38:58",
          "2023-05-30T15:39:22",
          "2023-05-30T15:40:09",
          "2023-05-30T15:40:29",
          "2023-05-30T15:40:54",
          "2023-05-30T15:42:06",
          "2023-05-30T15:42:53",
          "2023-05-30T15:42:57",
          "2023-05-30T15:44:48",
          "2023-05-30T15:44:56",
          "2023-05-30T15:45:01",
          "2023-05-30T15:45:02",
          "2023-05-30T15:45:03",
          "2023-05-30T15:48:17",
          "2023-05-30T15:48:30",
          "2023-05-30T15:48:46",
          "2023-05-30T15:49:44",
          "2023-05-30T15:50:13",
          "2023-05-30T15:50:42",
          "2023-05-30T15:50:51",
          "2023-05-30T15:51:43",
          "2023-05-30T15:52:46",
          "2023-05-30T15:52:54",
          "2023-05-30T15:55:01",
          "2023-05-30T15:55:17",
          "2023-05-30T15:55:23",
          "2023-05-30T15:55:44",
          "2023-05-30T15:56:00",
          "2023-05-30T15:57:32",
          "2023-05-30T15:58:23",
          "2023-05-30T15:58:25",
          "2023-05-30T15:59:12",
          "2023-05-30T16:00:00",
          "2023-05-30T16:00:58",
          "2023-05-30T16:01:00",
          "2023-05-30T16:04:18",
          "2023-05-30T16:04:24",
          "2023-05-30T16:04:47",
          "2023-05-30T16:05:08",
          "2023-05-30T16:05:24",
          "2023-05-30T16:06:17",
          "2023-05-30T16:06:55",
          "2023-05-30T16:07:38",
          "2023-05-30T16:08:15",
          "2023-05-30T16:08:47",
          "2023-05-30T16:09:22",
          "2023-05-30T16:11:37",
          "2023-05-30T16:11:55",
          "2023-05-30T16:12:09",
          "2023-05-30T16:12:33",
          "2023-05-30T16:12:38",
          "2023-05-30T16:12:45",
          "2023-05-30T16:14:26",
          "2023-05-30T16:14:45",
          "2023-05-30T16:14:58",
          "2023-05-30T16:15:51",
          "2023-05-30T16:16:41",
          "2023-05-30T16:16:52",
          "2023-05-30T16:16:55",
          "2023-05-30T16:17:18",
          "2023-05-30T16:18:42",
          "2023-05-30T16:19:04",
          "2023-05-30T16:19:17",
          "2023-05-30T16:20:19",
          "2023-05-30T16:21:23",
          "2023-05-30T16:21:41",
          "2023-05-30T16:21:42",
          "2023-05-30T16:22:36",
          "2023-05-30T16:23:08",
          "2023-05-30T16:23:40",
          "2023-05-30T16:24:12",
          "2023-05-30T16:24:56",
          "2023-05-30T16:25:38",
          "2023-05-30T16:25:55",
          "2023-05-30T16:26:01",
          "2023-05-30T16:26:29",
          "2023-05-30T16:26:30",
          "2023-05-30T16:27:14",
          "2023-05-30T16:27:18",
          "2023-05-30T16:27:29",
          "2023-05-30T16:27:32",
          "2023-05-30T16:28:07",
          "2023-05-30T16:28:10",
          "2023-05-30T16:28:24",
          "2023-05-30T16:29:31",
          "2023-05-30T16:30:13",
          "2023-05-30T16:30:22",
          "2023-05-30T16:30:42",
          "2023-05-30T16:30:47",
          "2023-05-30T16:31:04",
          "2023-05-30T16:31:06",
          "2023-05-30T16:32:13",
          "2023-05-30T16:33:06",
          "2023-05-30T16:34:59",
          "2023-05-30T16:35:27",
          "2023-05-30T16:35:40",
          "2023-05-30T16:35:54",
          "2023-05-30T16:35:55",
          "2023-05-30T16:36:21",
          "2023-05-30T16:36:36",
          "2023-05-30T16:37:07",
          "2023-05-30T16:37:10",
          "2023-05-30T16:37:14",
          "2023-05-30T16:37:45",
          "2023-05-30T16:38:48",
          "2023-05-30T16:38:53",
          "2023-05-30T16:39:37",
          "2023-05-30T16:39:46",
          "2023-05-30T16:40:28",
          "2023-05-30T16:40:30",
          "2023-05-30T16:41:04",
          "2023-05-30T16:41:25",
          "2023-05-30T16:41:27",
          "2023-05-30T16:42:16",
          "2023-05-30T16:42:25",
          "2023-05-30T16:42:40",
          "2023-05-30T16:43:16",
          "2023-05-30T16:43:22",
          "2023-05-30T16:45:13",
          "2023-05-30T16:45:42",
          "2023-05-30T16:46:58",
          "2023-05-30T16:47:01",
          "2023-05-30T16:47:05",
          "2023-05-30T16:47:09",
          "2023-05-30T16:47:45",
          "2023-05-30T16:47:58",
          "2023-05-30T16:48:59",
          "2023-05-30T16:49:09",
          "2023-05-30T16:49:20",
          "2023-05-30T16:49:41",
          "2023-05-30T16:49:49",
          "2023-05-30T16:49:53",
          "2023-05-30T16:51:00",
          "2023-05-30T16:52:02",
          "2023-05-30T16:53:23",
          "2023-05-30T16:53:45",
          "2023-05-30T16:54:03",
          "2023-05-30T16:54:04",
          "2023-05-30T16:54:21",
          "2023-05-30T16:54:30",
          "2023-05-30T16:54:35",
          "2023-05-30T16:55:25",
          "2023-05-30T16:55:32",
          "2023-05-30T16:56:04",
          "2023-05-30T16:56:05",
          "2023-05-30T16:56:07",
          "2023-05-30T16:56:10",
          "2023-05-30T16:56:57",
          "2023-05-30T16:57:03",
          "2023-05-30T16:57:30",
          "2023-05-30T16:57:37",
          "2023-05-30T16:57:41",
          "2023-05-30T16:57:46",
          "2023-05-30T16:57:49",
          "2023-05-30T16:57:51",
          "2023-05-30T16:58:00",
          "2023-05-30T16:58:59",
          "2023-05-30T16:59:02",
          "2023-05-30T16:59:14",
          "2023-05-30T16:59:19",
          "2023-05-30T16:59:43",
          "2023-05-30T16:59:59",
          "2023-05-30T17:00:26",
          "2023-05-30T17:00:45",
          "2023-05-30T17:00:59",
          "2023-05-30T17:02:51",
          "2023-05-30T17:03:33",
          "2023-05-30T17:04:02",
          "2023-05-30T17:04:12",
          "2023-05-30T17:05:11",
          "2023-05-30T17:05:17",
          "2023-05-30T17:05:36",
          "2023-05-30T17:05:40",
          "2023-05-30T17:06:25",
          "2023-05-30T17:07:00",
          "2023-05-30T17:07:04",
          "2023-05-30T17:08:11",
          "2023-05-30T17:08:32",
          "2023-05-30T17:09:24",
          "2023-05-30T17:09:52",
          "2023-05-30T17:10:01",
          "2023-05-30T17:10:05",
          "2023-05-30T17:10:13",
          "2023-05-30T17:12:06",
          "2023-05-30T17:13:40",
          "2023-05-30T17:14:13",
          "2023-05-30T17:15:49",
          "2023-05-30T17:17:25",
          "2023-05-30T17:17:54",
          "2023-05-30T17:18:09",
          "2023-05-30T17:19:38",
          "2023-05-30T17:20:09",
          "2023-05-30T17:20:23",
          "2023-05-30T17:20:27",
          "2023-05-30T17:21:14",
          "2023-05-30T17:21:28",
          "2023-05-30T17:22:11",
          "2023-05-30T17:22:22",
          "2023-05-30T17:22:29",
          "2023-05-30T17:23:42",
          "2023-05-30T17:23:47",
          "2023-05-30T17:24:11",
          "2023-05-30T17:28:35",
          "2023-05-30T17:28:47",
          "2023-05-30T17:31:48",
          "2023-05-30T17:33:08",
          "2023-05-30T17:34:17",
          "2023-05-30T17:34:24",
          "2023-05-30T17:35:47",
          "2023-05-30T17:36:00",
          "2023-05-30T17:36:44",
          "2023-05-30T17:37:11",
          "2023-05-30T17:38:33",
          "2023-05-30T17:38:48",
          "2023-05-30T17:39:32",
          "2023-05-30T17:39:58",
          "2023-05-30T17:40:25",
          "2023-05-30T17:40:55",
          "2023-05-30T17:41:13",
          "2023-05-30T17:41:36",
          "2023-05-30T17:42:03",
          "2023-05-30T17:42:23",
          "2023-05-30T17:43:24",
          "2023-05-30T17:43:58",
          "2023-05-30T17:44:03",
          "2023-05-30T17:44:08",
          "2023-05-30T17:44:13",
          "2023-05-30T17:45:09",
          "2023-05-30T17:45:14",
          "2023-05-30T17:45:16",
          "2023-05-30T17:45:51",
          "2023-05-30T17:46:03",
          "2023-05-30T17:47:11",
          "2023-05-30T17:47:12",
          "2023-05-30T17:47:28",
          "2023-05-30T17:47:58",
          "2023-05-30T17:48:08",
          "2023-05-30T17:48:51",
          "2023-05-30T17:48:54",
          "2023-05-30T17:49:04",
          "2023-05-30T17:50:17",
          "2023-05-30T17:51:42",
          "2023-05-30T17:53:09",
          "2023-05-30T17:53:43",
          "2023-05-30T17:54:42",
          "2023-05-30T17:55:54",
          "2023-05-30T17:56:19",
          "2023-05-30T17:56:46",
          "2023-05-30T17:57:23",
          "2023-05-30T17:58:21",
          "2023-05-30T17:59:12",
          "2023-05-30T17:59:32",
          "2023-05-30T17:59:47",
          "2023-05-30T17:59:48",
          "2023-05-30T17:59:51",
          "2023-05-30T17:59:54",
          "2023-05-30T18:01:35",
          "2023-05-30T18:03:02",
          "2023-05-30T18:03:14",
          "2023-05-30T18:03:16",
          "2023-05-30T18:03:22",
          "2023-05-30T18:03:28",
          "2023-05-30T18:03:40",
          "2023-05-30T18:03:51",
          "2023-05-30T18:05:22",
          "2023-05-30T18:05:29",
          "2023-05-30T18:05:32",
          "2023-05-30T18:06:07",
          "2023-05-30T18:07:10",
          "2023-05-30T18:08:17",
          "2023-05-30T18:09:44",
          "2023-05-30T18:10:01",
          "2023-05-30T18:10:14",
          "2023-05-30T18:10:37",
          "2023-05-30T18:10:56",
          "2023-05-30T18:11:21",
          "2023-05-30T18:11:46",
          "2023-05-30T18:12:20",
          "2023-05-30T18:12:48",
          "2023-05-30T18:13:31",
          "2023-05-30T18:14:06",
          "2023-05-30T18:14:54",
          "2023-05-30T18:14:59",
          "2023-05-30T18:15:06",
          "2023-05-30T18:15:50",
          "2023-05-30T18:17:27",
          "2023-05-30T18:17:43",
          "2023-05-30T18:17:54",
          "2023-05-30T18:19:12",
          "2023-05-30T18:19:15",
          "2023-05-30T18:19:27",
          "2023-05-30T18:19:52",
          "2023-05-30T18:20:21",
          "2023-05-30T18:20:34",
          "2023-05-30T18:20:37",
          "2023-05-30T18:20:56",
          "2023-05-30T18:21:07",
          "2023-05-30T18:21:31",
          "2023-05-30T18:21:54",
          "2023-05-30T18:21:57",
          "2023-05-30T18:22:07",
          "2023-05-30T18:23:56",
          "2023-05-30T18:24:00",
          "2023-05-30T18:24:56",
          "2023-05-30T18:25:34",
          "2023-05-30T18:26:02",
          "2023-05-30T18:27:05",
          "2023-05-30T18:27:30",
          "2023-05-30T18:29:13",
          "2023-05-30T18:29:14",
          "2023-05-30T18:29:20",
          "2023-05-30T18:29:29",
          "2023-05-30T18:29:55",
          "2023-05-30T18:30:41",
          "2023-05-30T18:30:44",
          "2023-05-30T18:30:50",
          "2023-05-30T18:30:57",
          "2023-05-30T18:31:59",
          "2023-05-30T18:32:34",
          "2023-05-30T18:33:44",
          "2023-05-30T18:33:48",
          "2023-05-30T18:38:46",
          "2023-05-30T18:40:48",
          "2023-05-30T18:41:55",
          "2023-05-30T18:42:07",
          "2023-05-30T18:42:26",
          "2023-05-30T18:42:37",
          "2023-05-30T18:43:47",
          "2023-05-30T18:44:36",
          "2023-05-30T18:45:02",
          "2023-05-30T18:45:11",
          "2023-05-30T18:45:32",
          "2023-05-30T18:46:19",
          "2023-05-30T18:46:33",
          "2023-05-30T18:48:11",
          "2023-05-30T18:49:01",
          "2023-05-30T18:50:10",
          "2023-05-30T18:51:11",
          "2023-05-30T18:51:12",
          "2023-05-30T18:53:08",
          "2023-05-30T18:56:16",
          "2023-05-30T18:56:21",
          "2023-05-30T18:56:34",
          "2023-05-30T18:56:35",
          "2023-05-30T18:56:42",
          "2023-05-30T18:56:56",
          "2023-05-30T18:57:19",
          "2023-05-30T18:58:20",
          "2023-05-30T18:58:29",
          "2023-05-30T18:59:20",
          "2023-05-30T19:00:00",
          "2023-05-30T19:01:51",
          "2023-05-30T19:03:03",
          "2023-05-30T19:03:51",
          "2023-05-30T19:03:54",
          "2023-05-30T19:04:12",
          "2023-05-30T19:04:51",
          "2023-05-30T19:05:03",
          "2023-05-30T19:06:03",
          "2023-05-30T19:06:42",
          "2023-05-30T19:07:47",
          "2023-05-30T19:07:55",
          "2023-05-30T19:08:05",
          "2023-05-30T19:08:26",
          "2023-05-30T19:09:09",
          "2023-05-30T19:10:16",
          "2023-05-30T19:11:16",
          "2023-05-30T19:11:26",
          "2023-05-30T19:14:06",
          "2023-05-30T19:15:24",
          "2023-05-30T19:15:26",
          "2023-05-30T19:15:28",
          "2023-05-30T19:15:37",
          "2023-05-30T19:15:58",
          "2023-05-30T19:19:02",
          "2023-05-30T19:19:12",
          "2023-05-30T19:19:55",
          "2023-05-30T19:20:42",
          "2023-05-30T19:21:48",
          "2023-05-30T19:22:01",
          "2023-05-30T19:22:13",
          "2023-05-30T19:23:02",
          "2023-05-30T19:23:48",
          "2023-05-30T19:24:18",
          "2023-05-30T19:25:14",
          "2023-05-30T19:25:40",
          "2023-05-30T19:25:54",
          "2023-05-30T19:26:00",
          "2023-05-30T19:26:53",
          "2023-05-30T19:27:38",
          "2023-05-30T19:27:49",
          "2023-05-30T19:30:04",
          "2023-05-30T19:31:42",
          "2023-05-30T19:32:35",
          "2023-05-30T19:32:36",
          "2023-05-30T19:32:47",
          "2023-05-30T19:33:01",
          "2023-05-30T19:34:27",
          "2023-05-30T19:34:30",
          "2023-05-30T19:35:37",
          "2023-05-30T19:36:04",
          "2023-05-30T19:36:14",
          "2023-05-30T19:36:41",
          "2023-05-30T19:36:50",
          "2023-05-30T19:37:57",
          "2023-05-30T19:39:27",
          "2023-05-30T19:40:35",
          "2023-05-30T19:42:30",
          "2023-05-30T19:42:56",
          "2023-05-30T19:43:58",
          "2023-05-30T19:47:20",
          "2023-05-30T19:48:15",
          "2023-05-30T19:48:36",
          "2023-05-30T19:49:56",
          "2023-05-30T19:50:43",
          "2023-05-30T19:50:56",
          "2023-05-30T19:52:32",
          "2023-05-30T19:53:21",
          "2023-05-30T19:54:02",
          "2023-05-30T19:54:34",
          "2023-05-30T19:54:40",
          "2023-05-30T19:55:39",
          "2023-05-30T19:57:42",
          "2023-05-30T19:58:03",
          "2023-05-30T19:58:44",
          "2023-05-30T19:58:53",
          "2023-05-30T20:01:10",
          "2023-05-30T20:01:19",
          "2023-05-30T20:03:26",
          "2023-05-30T20:04:15",
          "2023-05-30T20:05:13",
          "2023-05-30T20:07:03",
          "2023-05-30T20:08:55",
          "2023-05-30T20:10:24",
          "2023-05-30T20:10:58",
          "2023-05-30T20:11:48",
          "2023-05-30T20:11:56",
          "2023-05-30T20:12:09",
          "2023-05-30T20:12:57",
          "2023-05-30T20:13:07",
          "2023-05-30T20:13:23",
          "2023-05-30T20:13:30",
          "2023-05-30T20:14:22",
          "2023-05-30T20:15:07",
          "2023-05-30T20:15:29",
          "2023-05-30T20:16:01",
          "2023-05-30T20:16:18",
          "2023-05-30T20:17:33",
          "2023-05-30T20:18:03",
          "2023-05-30T20:18:45",
          "2023-05-30T20:21:05",
          "2023-05-30T20:21:18",
          "2023-05-30T20:22:05",
          "2023-05-30T20:22:51",
          "2023-05-30T20:23:23",
          "2023-05-30T20:24:17",
          "2023-05-30T20:24:47",
          "2023-05-30T20:28:39",
          "2023-05-30T20:29:06",
          "2023-05-30T20:29:11",
          "2023-05-30T20:29:14",
          "2023-05-30T20:30:24",
          "2023-05-30T20:32:35",
          "2023-05-30T20:32:47",
          "2023-05-30T20:32:52",
          "2023-05-30T20:33:28",
          "2023-05-30T20:35:09",
          "2023-05-30T20:35:14",
          "2023-05-30T20:36:43",
          "2023-05-30T20:37:17",
          "2023-05-30T20:37:44",
          "2023-05-30T20:38:15",
          "2023-05-30T20:39:14",
          "2023-05-30T20:40:57",
          "2023-05-30T20:41:15",
          "2023-05-30T20:41:31",
          "2023-05-30T20:43:58",
          "2023-05-30T20:47:12",
          "2023-05-30T20:47:30",
          "2023-05-30T20:48:07",
          "2023-05-30T20:48:17",
          "2023-05-30T20:48:38",
          "2023-05-30T20:49:59",
          "2023-05-30T20:51:13",
          "2023-05-30T20:53:19",
          "2023-05-30T20:53:42",
          "2023-05-30T20:57:09",
          "2023-05-30T20:59:32",
          "2023-05-30T20:59:44",
          "2023-05-30T20:59:46",
          "2023-05-30T21:00:00",
          "2023-05-30T21:01:06",
          "2023-05-30T21:01:11",
          "2023-05-30T21:03:29",
          "2023-05-30T21:04:27",
          "2023-05-30T21:04:49",
          "2023-05-30T21:05:34",
          "2023-05-30T21:06:18",
          "2023-05-30T21:06:23",
          "2023-05-30T21:08:04",
          "2023-05-30T21:08:15",
          "2023-05-30T21:08:48",
          "2023-05-30T21:08:58",
          "2023-05-30T21:09:17",
          "2023-05-30T21:09:29",
          "2023-05-30T21:09:30",
          "2023-05-30T21:11:01",
          "2023-05-30T21:13:20",
          "2023-05-30T21:13:45",
          "2023-05-30T21:14:26",
          "2023-05-30T21:15:38",
          "2023-05-30T21:18:35",
          "2023-05-30T21:19:30",
          "2023-05-30T21:19:37",
          "2023-05-30T21:20:55",
          "2023-05-30T21:22:05",
          "2023-05-30T21:22:17",
          "2023-05-30T21:22:31",
          "2023-05-30T21:24:06",
          "2023-05-30T21:25:26",
          "2023-05-30T21:26:42",
          "2023-05-30T21:26:48",
          "2023-05-30T21:27:04",
          "2023-05-30T21:27:09",
          "2023-05-30T21:28:42",
          "2023-05-30T21:32:24",
          "2023-05-30T21:34:32",
          "2023-05-30T21:35:34",
          "2023-05-30T21:35:46",
          "2023-05-30T21:36:37",
          "2023-05-30T21:38:57",
          "2023-05-30T21:39:38",
          "2023-05-30T21:41:20",
          "2023-05-30T21:42:07",
          "2023-05-30T21:42:47",
          "2023-05-30T21:44:23",
          "2023-05-30T21:47:29",
          "2023-05-30T21:49:22",
          "2023-05-30T21:50:47",
          "2023-05-30T21:51:52",
          "2023-05-30T21:52:27",
          "2023-05-30T21:52:47",
          "2023-05-30T21:53:05",
          "2023-05-30T21:53:17",
          "2023-05-30T21:54:26",
          "2023-05-30T21:56:11",
          "2023-05-30T21:57:19",
          "2023-05-30T21:59:10",
          "2023-05-30T22:01:28",
          "2023-05-30T22:01:37",
          "2023-05-30T22:08:12",
          "2023-05-30T22:08:37",
          "2023-05-30T22:10:46",
          "2023-05-30T22:18:10",
          "2023-05-30T22:18:27",
          "2023-05-30T22:21:54",
          "2023-05-30T22:27:06",
          "2023-05-30T22:28:11",
          "2023-05-30T22:30:14",
          "2023-05-30T22:30:17",
          "2023-05-30T22:30:47",
          "2023-05-30T22:34:55",
          "2023-05-30T22:35:00",
          "2023-05-30T22:37:10",
          "2023-05-30T22:41:54",
          "2023-05-30T22:43:28",
          "2023-05-30T22:44:35",
          "2023-05-30T22:45:17",
          "2023-05-30T22:45:35",
          "2023-05-30T22:49:55",
          "2023-05-30T22:54:01",
          "2023-05-30T22:54:23",
          "2023-05-30T22:57:04",
          "2023-05-30T22:57:45",
          "2023-05-30T22:59:01",
          "2023-05-30T23:00:03",
          "2023-05-30T23:03:11",
          "2023-05-30T23:04:50",
          "2023-05-30T23:06:15",
          "2023-05-30T23:08:29",
          "2023-05-30T23:14:52",
          "2023-05-30T23:16:26",
          "2023-05-30T23:16:53",
          "2023-05-30T23:21:27",
          "2023-05-30T23:22:23",
          "2023-05-30T23:26:18",
          "2023-05-30T23:27:00",
          "2023-05-30T23:31:55",
          "2023-05-30T23:32:16",
          "2023-05-30T23:38:28",
          "2023-05-30T23:40:38",
          "2023-05-30T23:42:06",
          "2023-05-30T23:43:37",
          "2023-05-30T23:43:52",
          "2023-05-30T23:45:26",
          "2023-05-30T23:45:46",
          "2023-05-30T23:46:39",
          "2023-05-30T23:47:08",
          "2023-05-30T23:49:41",
          "2023-05-30T23:50:22",
          "2023-05-30T23:51:52",
          "2023-05-30T23:54:30",
          "2023-05-30T23:55:59",
          "2023-05-30T23:56:20",
          "2023-05-30T23:57:56",
          "2023-05-30T23:58:52",
          "2023-05-30T23:59:30",
          "2023-05-30T23:59:50",
          "2023-05-31T00:06:31",
          "2023-05-31T00:07:37",
          "2023-05-31T00:11:16",
          "2023-05-31T00:11:28",
          "2023-05-31T00:13:39",
          "2023-05-31T00:13:55",
          "2023-05-31T00:15:07",
          "2023-05-31T00:16:02",
          "2023-05-31T00:17:31",
          "2023-05-31T00:18:17",
          "2023-05-31T00:20:20",
          "2023-05-31T00:22:26",
          "2023-05-31T00:22:32",
          "2023-05-31T00:24:59",
          "2023-05-31T00:25:59",
          "2023-05-31T00:27:54",
          "2023-05-31T00:29:06",
          "2023-05-31T00:29:22",
          "2023-05-31T00:33:26",
          "2023-05-31T00:36:00",
          "2023-05-31T00:36:17",
          "2023-05-31T00:37:09",
          "2023-05-31T00:43:44",
          "2023-05-31T00:46:38",
          "2023-05-31T00:51:26",
          "2023-05-31T00:52:11",
          "2023-05-31T00:52:25",
          "2023-05-31T00:52:55",
          "2023-05-31T00:53:30",
          "2023-05-31T00:56:12",
          "2023-05-31T00:59:05",
          "2023-05-31T01:02:24",
          "2023-05-31T01:02:28",
          "2023-05-31T01:07:09",
          "2023-05-31T01:08:33",
          "2023-05-31T01:10:57",
          "2023-05-31T01:13:13",
          "2023-05-31T01:13:33",
          "2023-05-31T01:14:30",
          "2023-05-31T01:16:52",
          "2023-05-31T01:17:42",
          "2023-05-31T01:18:05",
          "2023-05-31T01:19:37",
          "2023-05-31T01:26:48",
          "2023-05-31T01:26:57",
          "2023-05-31T01:29:42",
          "2023-05-31T01:32:18",
          "2023-05-31T01:33:57",
          "2023-05-31T01:44:58",
          "2023-05-31T01:45:06",
          "2023-05-31T01:48:20",
          "2023-05-31T01:49:13",
          "2023-05-31T01:54:07",
          "2023-05-31T01:55:12",
          "2023-05-31T01:57:30",
          "2023-05-31T01:57:45",
          "2023-05-31T01:58:03",
          "2023-05-31T01:59:34",
          "2023-05-31T02:07:44",
          "2023-05-31T02:09:56",
          "2023-05-31T02:13:10",
          "2023-05-31T02:13:16",
          "2023-05-31T02:17:17",
          "2023-05-31T02:19:09",
          "2023-05-31T02:24:09",
          "2023-05-31T02:26:50",
          "2023-05-31T02:27:40",
          "2023-05-31T02:28:33",
          "2023-05-31T02:29:44",
          "2023-05-31T02:30:04",
          "2023-05-31T02:31:31",
          "2023-05-31T02:31:37",
          "2023-05-31T02:37:28",
          "2023-05-31T02:43:52",
          "2023-05-31T02:44:00",
          "2023-05-31T02:44:32",
          "2023-05-31T02:49:08",
          "2023-05-31T02:51:12",
          "2023-05-31T02:51:28",
          "2023-05-31T02:53:00",
          "2023-05-31T02:56:10",
          "2023-05-31T02:59:51",
          "2023-05-31T03:01:14",
          "2023-05-31T03:03:23",
          "2023-05-31T03:05:45",
          "2023-05-31T03:08:14",
          "2023-05-31T03:11:02",
          "2023-05-31T03:12:10",
          "2023-05-31T03:12:49",
          "2023-05-31T03:13:44",
          "2023-05-31T03:16:01",
          "2023-05-31T03:16:04",
          "2023-05-31T03:17:13",
          "2023-05-31T03:18:32",
          "2023-05-31T03:22:57",
          "2023-05-31T03:23:09",
          "2023-05-31T03:25:46",
          "2023-05-31T03:28:06",
          "2023-05-31T03:30:34",
          "2023-05-31T03:32:58",
          "2023-05-31T03:34:24",
          "2023-05-31T03:43:46",
          "2023-05-31T03:47:16",
          "2023-05-31T03:53:54",
          "2023-05-31T03:58:08",
          "2023-05-31T04:02:16",
          "2023-05-31T04:03:05",
          "2023-05-31T04:03:39",
          "2023-05-31T04:04:39",
          "2023-05-31T04:04:46",
          "2023-05-31T04:05:31",
          "2023-05-31T04:05:59",
          "2023-05-31T04:06:33",
          "2023-05-31T04:07:02",
          "2023-05-31T04:13:02",
          "2023-05-31T04:13:23",
          "2023-05-31T04:15:41",
          "2023-05-31T04:16:33",
          "2023-05-31T04:19:47",
          "2023-05-31T04:24:02",
          "2023-05-31T04:24:38",
          "2023-05-31T04:24:58",
          "2023-05-31T04:26:05",
          "2023-05-31T04:26:38",
          "2023-05-31T04:26:39",
          "2023-05-31T04:28:54",
          "2023-05-31T04:32:42",
          "2023-05-31T04:34:55",
          "2023-05-31T04:35:43",
          "2023-05-31T04:35:56",
          "2023-05-31T04:39:06",
          "2023-05-31T04:39:25",
          "2023-05-31T04:39:29",
          "2023-05-31T04:39:45",
          "2023-05-31T04:39:57",
          "2023-05-31T04:41:25",
          "2023-05-31T04:44:35",
          "2023-05-31T04:46:43",
          "2023-05-31T04:47:10",
          "2023-05-31T05:04:25",
          "2023-05-31T05:11:08",
          "2023-05-31T05:17:03",
          "2023-05-31T05:51:25",
          "2023-05-31T05:59:16",
          "2023-05-31T06:03:59",
          "2023-05-31T06:16:50",
          "2023-05-31T06:31:20",
          "2023-05-31T06:34:44",
          "2023-05-31T06:41:30",
          "2023-05-31T07:03:01",
          "2023-05-31T07:22:49",
          "2023-05-31T07:23:15",
          "2023-05-31T07:41:26",
          "2023-05-31T07:48:39",
          "2023-05-31T08:04:24",
          "2023-05-31T08:19:03",
          "2023-05-31T08:35:06",
          "2023-05-31T08:38:31",
          "2023-05-31T11:37:00",
          "2023-05-31T11:38:22",
          "2023-05-31T11:40:55",
          "2023-05-31T12:53:16",
          "2023-05-31T13:11:39",
          "2023-05-31T13:27:24",
          "2023-05-31T13:42:51",
          "2023-05-31T13:54:13",
          "2023-05-31T13:58:08",
          "2023-05-31T14:07:27",
          "2023-05-31T14:17:08",
          "2023-05-31T14:33:27",
          "2023-05-31T14:51:44",
          "2023-05-31T14:54:23",
          "2023-05-31T15:27:30",
          "2023-05-31T15:41:54",
          "2023-05-31T15:48:57",
          "2023-05-31T15:57:59"
         ],
         "xaxis": "x",
         "y": [
          5,
          1,
          11,
          6,
          0,
          0,
          0,
          4,
          0,
          0,
          0,
          0,
          0,
          5,
          3,
          0,
          4,
          15,
          1,
          4,
          22,
          2,
          0,
          0,
          2,
          0,
          0,
          0,
          0,
          0,
          3,
          0,
          2,
          0,
          0,
          10,
          0,
          0,
          1,
          1,
          6,
          5,
          0,
          0,
          0,
          1,
          0,
          0,
          1,
          3,
          2,
          0,
          0,
          0,
          20,
          7,
          0,
          0,
          0,
          0,
          0,
          0,
          2,
          0,
          5,
          0,
          0,
          4,
          0,
          0,
          0,
          0,
          0,
          1,
          0,
          0,
          0,
          0,
          1,
          0,
          1,
          0,
          0,
          1,
          1,
          0,
          0,
          0,
          0,
          0,
          0,
          0,
          0,
          0,
          0,
          0,
          0,
          1,
          1,
          1,
          2,
          0,
          1,
          0,
          2,
          2,
          1,
          0,
          2,
          4,
          1,
          0,
          0,
          0,
          1,
          0,
          3,
          0,
          0,
          1,
          0,
          1,
          1,
          0,
          2,
          0,
          0,
          1,
          1,
          0,
          4,
          0,
          1,
          1,
          0,
          1,
          0,
          0,
          0,
          0,
          0,
          3,
          0,
          0,
          0,
          2,
          0,
          1,
          0,
          0,
          0,
          0,
          0,
          2,
          0,
          2,
          2,
          3,
          0,
          0,
          2,
          0,
          0,
          3,
          2,
          0,
          1,
          1,
          0,
          1,
          0,
          1,
          4,
          1,
          2,
          2,
          2,
          0,
          1,
          1,
          0,
          1,
          0,
          1,
          0,
          0,
          2,
          3,
          0,
          1,
          0,
          1,
          0,
          0,
          0,
          0,
          0,
          0,
          1,
          0,
          0,
          0,
          0,
          0,
          3,
          1,
          0,
          2,
          0,
          0,
          0,
          1,
          0,
          0,
          0,
          0,
          1,
          0,
          0,
          0,
          0,
          1,
          0,
          1,
          0,
          0,
          0,
          1,
          0,
          0,
          2,
          0,
          0,
          1,
          3,
          0,
          0,
          1,
          0,
          0,
          0,
          0,
          0,
          4,
          0,
          0,
          2,
          2,
          0,
          0,
          1,
          0,
          0,
          0,
          0,
          1,
          0,
          1,
          0,
          0,
          0,
          2,
          1,
          1,
          0,
          0,
          1,
          0,
          2,
          0,
          2,
          1,
          1,
          0,
          0,
          4,
          0,
          2,
          0,
          0,
          1,
          0,
          0,
          0,
          0,
          0,
          0,
          0,
          0,
          0,
          0,
          0,
          0,
          0,
          3,
          1,
          0,
          4,
          0,
          0,
          1,
          3,
          2,
          0,
          3,
          1,
          1,
          0,
          0,
          2,
          0,
          0,
          0,
          2,
          0,
          2,
          1,
          0,
          2,
          1,
          1,
          1,
          0,
          0,
          1,
          1,
          1,
          0,
          0,
          0,
          1,
          1,
          0,
          0,
          0,
          0,
          1,
          0,
          0,
          0,
          4,
          0,
          0,
          0,
          0,
          0,
          0,
          0,
          3,
          2,
          0,
          0,
          1,
          0,
          0,
          0,
          2,
          0,
          0,
          0,
          0,
          0,
          0,
          0,
          1,
          0,
          2,
          0,
          1,
          2,
          0,
          0,
          3,
          0,
          0,
          0,
          0,
          0,
          0,
          0,
          1,
          0,
          0,
          0,
          0,
          0,
          0,
          0,
          0,
          3,
          0,
          0,
          0,
          0,
          0,
          1,
          1,
          0,
          0,
          0,
          0,
          0,
          0,
          1,
          1,
          0,
          0,
          1,
          0,
          0,
          0,
          0,
          0,
          1,
          0,
          0,
          0,
          0,
          0,
          0,
          0,
          0,
          0,
          0,
          0,
          0,
          0,
          1,
          0,
          0,
          1,
          1,
          0,
          1,
          0,
          0,
          0,
          2,
          3,
          0,
          2,
          0,
          0,
          0,
          2,
          0,
          0,
          0,
          0,
          0,
          0,
          0,
          0,
          0,
          0,
          1,
          0,
          0,
          0,
          0,
          1,
          2,
          1,
          0,
          0,
          1,
          0,
          1,
          0,
          0,
          0,
          4,
          2,
          2,
          0,
          0,
          0,
          0,
          1,
          1,
          0,
          0,
          1,
          0,
          0,
          1,
          0,
          0,
          0,
          0,
          0,
          0,
          0,
          0,
          0,
          0,
          0,
          0,
          0,
          1,
          1,
          0,
          0,
          1,
          0,
          0,
          0,
          0,
          0,
          0,
          0,
          1,
          0,
          0,
          1,
          1,
          0,
          0,
          0,
          0,
          0,
          2,
          3,
          1,
          0,
          0,
          0,
          1,
          0,
          1,
          0,
          0,
          0,
          2,
          0,
          0,
          1,
          0,
          1,
          0,
          1,
          0,
          5,
          0,
          0,
          0,
          0,
          0,
          0,
          1,
          0,
          0,
          0,
          1,
          4,
          2,
          0,
          0,
          0,
          0,
          0,
          0,
          0,
          1,
          0,
          0,
          5,
          0,
          0,
          0,
          0,
          0,
          0,
          0,
          0,
          0,
          0,
          0,
          1,
          1,
          0,
          0,
          0,
          0,
          0,
          0,
          0,
          0,
          0,
          0,
          2,
          0,
          2,
          0,
          0,
          2,
          0,
          0,
          0,
          1,
          0,
          2,
          1,
          0,
          0,
          1,
          4,
          0,
          1,
          2,
          0,
          0,
          0,
          0,
          1,
          0,
          0,
          0,
          0,
          0,
          0,
          0,
          0,
          0,
          0,
          0,
          0,
          1,
          0,
          0,
          0,
          1,
          0,
          0,
          0,
          0,
          0,
          0,
          0,
          0,
          0,
          0,
          0,
          0,
          0,
          0,
          0,
          0,
          0,
          0,
          0,
          0,
          0,
          0,
          1,
          3,
          0,
          0,
          0,
          0,
          1,
          0,
          0,
          1,
          0,
          1,
          0,
          1,
          1,
          1,
          0,
          0,
          0,
          0,
          1,
          0,
          0,
          0,
          0,
          0,
          0,
          0,
          0,
          1,
          1,
          0,
          0,
          0,
          0,
          0,
          1,
          0,
          0,
          0,
          0,
          0,
          2,
          0,
          0,
          3,
          0,
          2,
          0,
          0,
          2,
          0,
          3,
          0,
          1,
          1,
          0,
          1,
          0,
          0,
          0,
          0,
          0,
          0,
          0,
          0,
          0,
          0,
          0,
          0,
          1,
          0,
          1,
          0,
          2,
          1,
          1,
          0,
          2,
          3,
          0,
          1,
          1,
          1,
          0,
          2,
          0,
          0,
          1,
          1,
          0,
          0,
          0,
          0,
          2,
          0,
          1,
          0,
          1,
          0,
          0,
          1,
          0,
          0,
          0,
          3,
          0,
          0,
          0,
          0,
          0,
          0,
          1,
          0,
          0,
          0,
          0,
          1,
          0,
          0,
          1,
          0,
          0,
          0,
          0,
          0,
          0,
          2,
          0,
          1,
          1,
          1,
          1,
          1,
          0,
          0,
          0,
          1,
          0,
          1,
          0,
          0,
          0,
          0,
          0,
          3,
          1,
          1,
          0,
          0,
          0,
          0,
          0,
          0,
          0,
          1,
          0,
          0,
          1,
          0,
          0,
          2,
          0,
          1,
          0,
          1,
          0,
          0,
          1,
          0,
          0,
          0,
          0,
          0,
          0,
          0,
          0,
          0,
          0,
          0,
          0,
          1,
          0,
          0,
          0,
          0,
          0,
          2,
          0,
          0,
          0,
          0,
          0,
          1,
          0,
          2,
          0,
          0,
          0,
          0,
          0,
          0,
          0,
          0,
          0,
          0,
          1,
          0,
          0,
          1,
          0,
          0,
          0,
          2,
          0,
          0,
          0,
          0,
          0,
          2,
          0,
          0,
          0,
          0,
          0,
          0,
          0,
          1,
          0,
          0,
          2,
          0,
          0,
          0,
          0
         ],
         "yaxis": "y"
        }
       ],
       "layout": {
        "legend": {
         "tracegroupgap": 0
        },
        "template": {
         "data": {
          "bar": [
           {
            "error_x": {
             "color": "#2a3f5f"
            },
            "error_y": {
             "color": "#2a3f5f"
            },
            "marker": {
             "line": {
              "color": "#E5ECF6",
              "width": 0.5
             },
             "pattern": {
              "fillmode": "overlay",
              "size": 10,
              "solidity": 0.2
             }
            },
            "type": "bar"
           }
          ],
          "barpolar": [
           {
            "marker": {
             "line": {
              "color": "#E5ECF6",
              "width": 0.5
             },
             "pattern": {
              "fillmode": "overlay",
              "size": 10,
              "solidity": 0.2
             }
            },
            "type": "barpolar"
           }
          ],
          "carpet": [
           {
            "aaxis": {
             "endlinecolor": "#2a3f5f",
             "gridcolor": "white",
             "linecolor": "white",
             "minorgridcolor": "white",
             "startlinecolor": "#2a3f5f"
            },
            "baxis": {
             "endlinecolor": "#2a3f5f",
             "gridcolor": "white",
             "linecolor": "white",
             "minorgridcolor": "white",
             "startlinecolor": "#2a3f5f"
            },
            "type": "carpet"
           }
          ],
          "choropleth": [
           {
            "colorbar": {
             "outlinewidth": 0,
             "ticks": ""
            },
            "type": "choropleth"
           }
          ],
          "contour": [
           {
            "colorbar": {
             "outlinewidth": 0,
             "ticks": ""
            },
            "colorscale": [
             [
              0,
              "#0d0887"
             ],
             [
              0.1111111111111111,
              "#46039f"
             ],
             [
              0.2222222222222222,
              "#7201a8"
             ],
             [
              0.3333333333333333,
              "#9c179e"
             ],
             [
              0.4444444444444444,
              "#bd3786"
             ],
             [
              0.5555555555555556,
              "#d8576b"
             ],
             [
              0.6666666666666666,
              "#ed7953"
             ],
             [
              0.7777777777777778,
              "#fb9f3a"
             ],
             [
              0.8888888888888888,
              "#fdca26"
             ],
             [
              1,
              "#f0f921"
             ]
            ],
            "type": "contour"
           }
          ],
          "contourcarpet": [
           {
            "colorbar": {
             "outlinewidth": 0,
             "ticks": ""
            },
            "type": "contourcarpet"
           }
          ],
          "heatmap": [
           {
            "colorbar": {
             "outlinewidth": 0,
             "ticks": ""
            },
            "colorscale": [
             [
              0,
              "#0d0887"
             ],
             [
              0.1111111111111111,
              "#46039f"
             ],
             [
              0.2222222222222222,
              "#7201a8"
             ],
             [
              0.3333333333333333,
              "#9c179e"
             ],
             [
              0.4444444444444444,
              "#bd3786"
             ],
             [
              0.5555555555555556,
              "#d8576b"
             ],
             [
              0.6666666666666666,
              "#ed7953"
             ],
             [
              0.7777777777777778,
              "#fb9f3a"
             ],
             [
              0.8888888888888888,
              "#fdca26"
             ],
             [
              1,
              "#f0f921"
             ]
            ],
            "type": "heatmap"
           }
          ],
          "heatmapgl": [
           {
            "colorbar": {
             "outlinewidth": 0,
             "ticks": ""
            },
            "colorscale": [
             [
              0,
              "#0d0887"
             ],
             [
              0.1111111111111111,
              "#46039f"
             ],
             [
              0.2222222222222222,
              "#7201a8"
             ],
             [
              0.3333333333333333,
              "#9c179e"
             ],
             [
              0.4444444444444444,
              "#bd3786"
             ],
             [
              0.5555555555555556,
              "#d8576b"
             ],
             [
              0.6666666666666666,
              "#ed7953"
             ],
             [
              0.7777777777777778,
              "#fb9f3a"
             ],
             [
              0.8888888888888888,
              "#fdca26"
             ],
             [
              1,
              "#f0f921"
             ]
            ],
            "type": "heatmapgl"
           }
          ],
          "histogram": [
           {
            "marker": {
             "pattern": {
              "fillmode": "overlay",
              "size": 10,
              "solidity": 0.2
             }
            },
            "type": "histogram"
           }
          ],
          "histogram2d": [
           {
            "colorbar": {
             "outlinewidth": 0,
             "ticks": ""
            },
            "colorscale": [
             [
              0,
              "#0d0887"
             ],
             [
              0.1111111111111111,
              "#46039f"
             ],
             [
              0.2222222222222222,
              "#7201a8"
             ],
             [
              0.3333333333333333,
              "#9c179e"
             ],
             [
              0.4444444444444444,
              "#bd3786"
             ],
             [
              0.5555555555555556,
              "#d8576b"
             ],
             [
              0.6666666666666666,
              "#ed7953"
             ],
             [
              0.7777777777777778,
              "#fb9f3a"
             ],
             [
              0.8888888888888888,
              "#fdca26"
             ],
             [
              1,
              "#f0f921"
             ]
            ],
            "type": "histogram2d"
           }
          ],
          "histogram2dcontour": [
           {
            "colorbar": {
             "outlinewidth": 0,
             "ticks": ""
            },
            "colorscale": [
             [
              0,
              "#0d0887"
             ],
             [
              0.1111111111111111,
              "#46039f"
             ],
             [
              0.2222222222222222,
              "#7201a8"
             ],
             [
              0.3333333333333333,
              "#9c179e"
             ],
             [
              0.4444444444444444,
              "#bd3786"
             ],
             [
              0.5555555555555556,
              "#d8576b"
             ],
             [
              0.6666666666666666,
              "#ed7953"
             ],
             [
              0.7777777777777778,
              "#fb9f3a"
             ],
             [
              0.8888888888888888,
              "#fdca26"
             ],
             [
              1,
              "#f0f921"
             ]
            ],
            "type": "histogram2dcontour"
           }
          ],
          "mesh3d": [
           {
            "colorbar": {
             "outlinewidth": 0,
             "ticks": ""
            },
            "type": "mesh3d"
           }
          ],
          "parcoords": [
           {
            "line": {
             "colorbar": {
              "outlinewidth": 0,
              "ticks": ""
             }
            },
            "type": "parcoords"
           }
          ],
          "pie": [
           {
            "automargin": true,
            "type": "pie"
           }
          ],
          "scatter": [
           {
            "fillpattern": {
             "fillmode": "overlay",
             "size": 10,
             "solidity": 0.2
            },
            "type": "scatter"
           }
          ],
          "scatter3d": [
           {
            "line": {
             "colorbar": {
              "outlinewidth": 0,
              "ticks": ""
             }
            },
            "marker": {
             "colorbar": {
              "outlinewidth": 0,
              "ticks": ""
             }
            },
            "type": "scatter3d"
           }
          ],
          "scattercarpet": [
           {
            "marker": {
             "colorbar": {
              "outlinewidth": 0,
              "ticks": ""
             }
            },
            "type": "scattercarpet"
           }
          ],
          "scattergeo": [
           {
            "marker": {
             "colorbar": {
              "outlinewidth": 0,
              "ticks": ""
             }
            },
            "type": "scattergeo"
           }
          ],
          "scattergl": [
           {
            "marker": {
             "colorbar": {
              "outlinewidth": 0,
              "ticks": ""
             }
            },
            "type": "scattergl"
           }
          ],
          "scattermapbox": [
           {
            "marker": {
             "colorbar": {
              "outlinewidth": 0,
              "ticks": ""
             }
            },
            "type": "scattermapbox"
           }
          ],
          "scatterpolar": [
           {
            "marker": {
             "colorbar": {
              "outlinewidth": 0,
              "ticks": ""
             }
            },
            "type": "scatterpolar"
           }
          ],
          "scatterpolargl": [
           {
            "marker": {
             "colorbar": {
              "outlinewidth": 0,
              "ticks": ""
             }
            },
            "type": "scatterpolargl"
           }
          ],
          "scatterternary": [
           {
            "marker": {
             "colorbar": {
              "outlinewidth": 0,
              "ticks": ""
             }
            },
            "type": "scatterternary"
           }
          ],
          "surface": [
           {
            "colorbar": {
             "outlinewidth": 0,
             "ticks": ""
            },
            "colorscale": [
             [
              0,
              "#0d0887"
             ],
             [
              0.1111111111111111,
              "#46039f"
             ],
             [
              0.2222222222222222,
              "#7201a8"
             ],
             [
              0.3333333333333333,
              "#9c179e"
             ],
             [
              0.4444444444444444,
              "#bd3786"
             ],
             [
              0.5555555555555556,
              "#d8576b"
             ],
             [
              0.6666666666666666,
              "#ed7953"
             ],
             [
              0.7777777777777778,
              "#fb9f3a"
             ],
             [
              0.8888888888888888,
              "#fdca26"
             ],
             [
              1,
              "#f0f921"
             ]
            ],
            "type": "surface"
           }
          ],
          "table": [
           {
            "cells": {
             "fill": {
              "color": "#EBF0F8"
             },
             "line": {
              "color": "white"
             }
            },
            "header": {
             "fill": {
              "color": "#C8D4E3"
             },
             "line": {
              "color": "white"
             }
            },
            "type": "table"
           }
          ]
         },
         "layout": {
          "annotationdefaults": {
           "arrowcolor": "#2a3f5f",
           "arrowhead": 0,
           "arrowwidth": 1
          },
          "autotypenumbers": "strict",
          "coloraxis": {
           "colorbar": {
            "outlinewidth": 0,
            "ticks": ""
           }
          },
          "colorscale": {
           "diverging": [
            [
             0,
             "#8e0152"
            ],
            [
             0.1,
             "#c51b7d"
            ],
            [
             0.2,
             "#de77ae"
            ],
            [
             0.3,
             "#f1b6da"
            ],
            [
             0.4,
             "#fde0ef"
            ],
            [
             0.5,
             "#f7f7f7"
            ],
            [
             0.6,
             "#e6f5d0"
            ],
            [
             0.7,
             "#b8e186"
            ],
            [
             0.8,
             "#7fbc41"
            ],
            [
             0.9,
             "#4d9221"
            ],
            [
             1,
             "#276419"
            ]
           ],
           "sequential": [
            [
             0,
             "#0d0887"
            ],
            [
             0.1111111111111111,
             "#46039f"
            ],
            [
             0.2222222222222222,
             "#7201a8"
            ],
            [
             0.3333333333333333,
             "#9c179e"
            ],
            [
             0.4444444444444444,
             "#bd3786"
            ],
            [
             0.5555555555555556,
             "#d8576b"
            ],
            [
             0.6666666666666666,
             "#ed7953"
            ],
            [
             0.7777777777777778,
             "#fb9f3a"
            ],
            [
             0.8888888888888888,
             "#fdca26"
            ],
            [
             1,
             "#f0f921"
            ]
           ],
           "sequentialminus": [
            [
             0,
             "#0d0887"
            ],
            [
             0.1111111111111111,
             "#46039f"
            ],
            [
             0.2222222222222222,
             "#7201a8"
            ],
            [
             0.3333333333333333,
             "#9c179e"
            ],
            [
             0.4444444444444444,
             "#bd3786"
            ],
            [
             0.5555555555555556,
             "#d8576b"
            ],
            [
             0.6666666666666666,
             "#ed7953"
            ],
            [
             0.7777777777777778,
             "#fb9f3a"
            ],
            [
             0.8888888888888888,
             "#fdca26"
            ],
            [
             1,
             "#f0f921"
            ]
           ]
          },
          "colorway": [
           "#636efa",
           "#EF553B",
           "#00cc96",
           "#ab63fa",
           "#FFA15A",
           "#19d3f3",
           "#FF6692",
           "#B6E880",
           "#FF97FF",
           "#FECB52"
          ],
          "font": {
           "color": "#2a3f5f"
          },
          "geo": {
           "bgcolor": "white",
           "lakecolor": "white",
           "landcolor": "#E5ECF6",
           "showlakes": true,
           "showland": true,
           "subunitcolor": "white"
          },
          "hoverlabel": {
           "align": "left"
          },
          "hovermode": "closest",
          "mapbox": {
           "style": "light"
          },
          "paper_bgcolor": "white",
          "plot_bgcolor": "#E5ECF6",
          "polar": {
           "angularaxis": {
            "gridcolor": "white",
            "linecolor": "white",
            "ticks": ""
           },
           "bgcolor": "#E5ECF6",
           "radialaxis": {
            "gridcolor": "white",
            "linecolor": "white",
            "ticks": ""
           }
          },
          "scene": {
           "xaxis": {
            "backgroundcolor": "#E5ECF6",
            "gridcolor": "white",
            "gridwidth": 2,
            "linecolor": "white",
            "showbackground": true,
            "ticks": "",
            "zerolinecolor": "white"
           },
           "yaxis": {
            "backgroundcolor": "#E5ECF6",
            "gridcolor": "white",
            "gridwidth": 2,
            "linecolor": "white",
            "showbackground": true,
            "ticks": "",
            "zerolinecolor": "white"
           },
           "zaxis": {
            "backgroundcolor": "#E5ECF6",
            "gridcolor": "white",
            "gridwidth": 2,
            "linecolor": "white",
            "showbackground": true,
            "ticks": "",
            "zerolinecolor": "white"
           }
          },
          "shapedefaults": {
           "line": {
            "color": "#2a3f5f"
           }
          },
          "ternary": {
           "aaxis": {
            "gridcolor": "white",
            "linecolor": "white",
            "ticks": ""
           },
           "baxis": {
            "gridcolor": "white",
            "linecolor": "white",
            "ticks": ""
           },
           "bgcolor": "#E5ECF6",
           "caxis": {
            "gridcolor": "white",
            "linecolor": "white",
            "ticks": ""
           }
          },
          "title": {
           "x": 0.05
          },
          "xaxis": {
           "automargin": true,
           "gridcolor": "white",
           "linecolor": "white",
           "ticks": "",
           "title": {
            "standoff": 15
           },
           "zerolinecolor": "white",
           "zerolinewidth": 2
          },
          "yaxis": {
           "automargin": true,
           "gridcolor": "white",
           "linecolor": "white",
           "ticks": "",
           "title": {
            "standoff": 15
           },
           "zerolinecolor": "white",
           "zerolinewidth": 2
          }
         }
        },
        "title": {
         "text": "Replies Activity over Time"
        },
        "xaxis": {
         "anchor": "y",
         "domain": [
          0,
          1
         ],
         "title": {
          "text": "time"
         }
        },
        "yaxis": {
         "anchor": "x",
         "domain": [
          0,
          1
         ],
         "title": {
          "text": "Replies"
         }
        }
       }
      }
     },
     "metadata": {},
     "output_type": "display_data"
    },
    {
     "data": {
      "text/plain": [
       "'plotly.html'"
      ]
     },
     "execution_count": 207,
     "metadata": {},
     "output_type": "execute_result"
    }
   ],
   "source": [
    "import plotly.express as px\n",
    "import plotly.graph_objects as go\n",
    "import plotly.offline as pyo\n",
    "\n",
    "g = testdf.groupby('time')['replies_count'].sum()\n",
    "\n",
    "fig = px.line(g, \n",
    "              x=g.index,  \n",
    "              y=g.values, \n",
    "              labels={'x':'time', 'y':'Replies'},\n",
    "              title='Replies Activity over Time',\n",
    "              )\n",
    "fig.show()\n",
    "\n",
    "pyo.plot(fig, filename='plotly.html', auto_open=False)"
   ]
  },
  {
   "cell_type": "code",
   "execution_count": 220,
   "metadata": {},
   "outputs": [
    {
     "data": {
      "text/plain": [
       "Text(0.5, 1.0, 'Number of replies based on sentiment over time')"
      ]
     },
     "execution_count": 220,
     "metadata": {},
     "output_type": "execute_result"
    },
    {
     "data": {
      "image/png": "[encoded data removed]",
      "text/plain": [
       "<Figure size 1200x500 with 1 Axes>"
      ]
     },
     "metadata": {},
     "output_type": "display_data"
    }
   ],
   "source": [
    "plt.figure(figsize=(12,5))\n",
    "sns.lineplot(testdf.iloc[:500,:],x='time',y='replies_count',hue='sentiment')\n",
    "plt.xlabel('time')\n",
    "plt.ylabel('Number of Replies')\n",
    "plt.title('Number of replies based on sentiment over time')"
   ]
  },
  {
   "cell_type": "code",
   "execution_count": 236,
   "metadata": {},
   "outputs": [
    {
     "data": {
      "text/html": [
       "<div>\n",
       "<style scoped>\n",
       "    .dataframe tbody tr th:only-of-type {\n",
       "        vertical-align: middle;\n",
       "    }\n",
       "\n",
       "    .dataframe tbody tr th {\n",
       "        vertical-align: top;\n",
       "    }\n",
       "\n",
       "    .dataframe thead th {\n",
       "        text-align: right;\n",
       "    }\n",
       "</style>\n",
       "<table border=\"1\" class=\"dataframe\">\n",
       "  <thead>\n",
       "    <tr style=\"text-align: right;\">\n",
       "      <th></th>\n",
       "      <th>location</th>\n",
       "      <th>sentiment</th>\n",
       "      <th>0</th>\n",
       "    </tr>\n",
       "  </thead>\n",
       "  <tbody>\n",
       "    <tr>\n",
       "      <th>0</th>\n",
       "      <td>\"around Barstow...\"</td>\n",
       "      <td>positive</td>\n",
       "      <td>1</td>\n",
       "    </tr>\n",
       "    <tr>\n",
       "      <th>1</th>\n",
       "      <td>01066</td>\n",
       "      <td>positive</td>\n",
       "      <td>1</td>\n",
       "    </tr>\n",
       "    <tr>\n",
       "      <th>2</th>\n",
       "      <td>1238</td>\n",
       "      <td>negative</td>\n",
       "      <td>1</td>\n",
       "    </tr>\n",
       "    <tr>\n",
       "      <th>3</th>\n",
       "      <td>40 miles south of Mar-a-Lago</td>\n",
       "      <td>positive</td>\n",
       "      <td>1</td>\n",
       "    </tr>\n",
       "    <tr>\n",
       "      <th>4</th>\n",
       "      <td>5000 horseshoe meadow road</td>\n",
       "      <td>negative</td>\n",
       "      <td>1</td>\n",
       "    </tr>\n",
       "    <tr>\n",
       "      <th>...</th>\n",
       "      <td>...</td>\n",
       "      <td>...</td>\n",
       "      <td>...</td>\n",
       "    </tr>\n",
       "    <tr>\n",
       "      <th>614</th>\n",
       "      <td>texas</td>\n",
       "      <td>positive</td>\n",
       "      <td>1</td>\n",
       "    </tr>\n",
       "    <tr>\n",
       "      <th>615</th>\n",
       "      <td>us</td>\n",
       "      <td>positive</td>\n",
       "      <td>1</td>\n",
       "    </tr>\n",
       "    <tr>\n",
       "      <th>616</th>\n",
       "      <td>va</td>\n",
       "      <td>positive</td>\n",
       "      <td>1</td>\n",
       "    </tr>\n",
       "    <tr>\n",
       "      <th>617</th>\n",
       "      <td>vermont</td>\n",
       "      <td>negative</td>\n",
       "      <td>1</td>\n",
       "    </tr>\n",
       "    <tr>\n",
       "      <th>618</th>\n",
       "      <td>wisconsin</td>\n",
       "      <td>positive</td>\n",
       "      <td>1</td>\n",
       "    </tr>\n",
       "  </tbody>\n",
       "</table>\n",
       "<p>619 rows × 3 columns</p>\n",
       "</div>"
      ],
      "text/plain": [
       "                         location sentiment  0\n",
       "0             \"around Barstow...\"  positive  1\n",
       "1                           01066  positive  1\n",
       "2                            1238  negative  1\n",
       "3    40 miles south of Mar-a-Lago  positive  1\n",
       "4      5000 horseshoe meadow road  negative  1\n",
       "..                            ...       ... ..\n",
       "614                         texas  positive  1\n",
       "615                            us  positive  1\n",
       "616                            va  positive  1\n",
       "617                       vermont  negative  1\n",
       "618                     wisconsin  positive  1\n",
       "\n",
       "[619 rows x 3 columns]"
      ]
     },
     "execution_count": 236,
     "metadata": {},
     "output_type": "execute_result"
    }
   ],
   "source": [
    "a"
   ]
  },
  {
   "cell_type": "code",
   "execution_count": null,
   "metadata": {},
   "outputs": [],
   "source": []
  },
  {
   "cell_type": "code",
   "execution_count": 239,
   "metadata": {},
   "outputs": [
    {
     "data": {
      "text/plain": [
       "<Axes: xlabel='location', ylabel='count'>"
      ]
     },
     "execution_count": 239,
     "metadata": {},
     "output_type": "execute_result"
    },
    {
     "data": {
      "image/png": "[encoded data removed]",
      "text/plain": [
       "<Figure size 640x480 with 1 Axes>"
      ]
     },
     "metadata": {},
     "output_type": "display_data"
    }
   ],
   "source": [
    "a = pd.DataFrame(testdf.groupby('location')['sentiment'].value_counts(ascending=False))\n",
    "\n",
    "a = a.stack().reset_index()\n",
    "a.drop('level_2',axis=1,inplace=True)\n",
    "a.columns = ['location','sentiment','count']\n",
    "\n",
    "sns.barplot(a,x='location',y='count',hue='sentiment')"
   ]
  },
  {
   "cell_type": "code",
   "execution_count": null,
   "metadata": {},
   "outputs": [],
   "source": []
  }
 ],
 "metadata": {
  "kernelspec": {
   "display_name": "Python 3",
   "language": "python",
   "name": "python3"
  },
  "language_info": {
   "codemirror_mode": {
    "name": "ipython",
    "version": 3
   },
   "file_extension": ".py",
   "mimetype": "text/x-python",
   "name": "python",
   "nbconvert_exporter": "python",
   "pygments_lexer": "ipython3",
   "version": "3.10.9"
  },
  "orig_nbformat": 4
 },
 "nbformat": 4,
 "nbformat_minor": 2
}
